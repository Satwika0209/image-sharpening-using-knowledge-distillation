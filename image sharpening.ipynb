{
  "nbformat": 4,
  "nbformat_minor": 0,
  "metadata": {
    "colab": {
      "provenance": [],
      "gpuType": "T4"
    },
    "kernelspec": {
      "name": "python3",
      "display_name": "Python 3"
    },
    "language_info": {
      "name": "python"
    },
    "accelerator": "GPU"
  },
  "cells": [
    {
      "cell_type": "code",
      "execution_count": null,
      "metadata": {
        "colab": {
          "base_uri": "https://localhost:8080/"
        },
        "id": "TfV_5_1sFPC0",
        "outputId": "d7f03491-cb26-4344-c5ec-9943808bc1fd"
      },
      "outputs": [
        {
          "output_type": "stream",
          "name": "stdout",
          "text": [
            "Mounted at /content/drive\n"
          ]
        }
      ],
      "source": [
        "# prompt: mount the google drive\n",
        "\n",
        "from google.colab import drive\n",
        "drive.mount('/content/drive')"
      ]
    },
    {
      "cell_type": "code",
      "source": [
        "%pip install torch torchvision\n",
        "!git clone https://github.com/JingyunLiang/SwinIR.git\n",
        "%cd SwinIR"
      ],
      "metadata": {
        "colab": {
          "base_uri": "https://localhost:8080/"
        },
        "id": "TRooV5kSF6Bi",
        "outputId": "527cbf55-dd7e-41ea-be42-b5dd6e9dac3c"
      },
      "execution_count": null,
      "outputs": [
        {
          "output_type": "stream",
          "name": "stdout",
          "text": [
            "Requirement already satisfied: torch in /usr/local/lib/python3.11/dist-packages (2.6.0+cu124)\n",
            "Requirement already satisfied: torchvision in /usr/local/lib/python3.11/dist-packages (0.21.0+cu124)\n",
            "Requirement already satisfied: filelock in /usr/local/lib/python3.11/dist-packages (from torch) (3.18.0)\n",
            "Requirement already satisfied: typing-extensions>=4.10.0 in /usr/local/lib/python3.11/dist-packages (from torch) (4.14.0)\n",
            "Requirement already satisfied: networkx in /usr/local/lib/python3.11/dist-packages (from torch) (3.5)\n",
            "Requirement already satisfied: jinja2 in /usr/local/lib/python3.11/dist-packages (from torch) (3.1.6)\n",
            "Requirement already satisfied: fsspec in /usr/local/lib/python3.11/dist-packages (from torch) (2025.3.2)\n",
            "Collecting nvidia-cuda-nvrtc-cu12==12.4.127 (from torch)\n",
            "  Downloading nvidia_cuda_nvrtc_cu12-12.4.127-py3-none-manylinux2014_x86_64.whl.metadata (1.5 kB)\n",
            "Collecting nvidia-cuda-runtime-cu12==12.4.127 (from torch)\n",
            "  Downloading nvidia_cuda_runtime_cu12-12.4.127-py3-none-manylinux2014_x86_64.whl.metadata (1.5 kB)\n",
            "Collecting nvidia-cuda-cupti-cu12==12.4.127 (from torch)\n",
            "  Downloading nvidia_cuda_cupti_cu12-12.4.127-py3-none-manylinux2014_x86_64.whl.metadata (1.6 kB)\n",
            "Collecting nvidia-cudnn-cu12==9.1.0.70 (from torch)\n",
            "  Downloading nvidia_cudnn_cu12-9.1.0.70-py3-none-manylinux2014_x86_64.whl.metadata (1.6 kB)\n",
            "Collecting nvidia-cublas-cu12==12.4.5.8 (from torch)\n",
            "  Downloading nvidia_cublas_cu12-12.4.5.8-py3-none-manylinux2014_x86_64.whl.metadata (1.5 kB)\n",
            "Collecting nvidia-cufft-cu12==11.2.1.3 (from torch)\n",
            "  Downloading nvidia_cufft_cu12-11.2.1.3-py3-none-manylinux2014_x86_64.whl.metadata (1.5 kB)\n",
            "Collecting nvidia-curand-cu12==10.3.5.147 (from torch)\n",
            "  Downloading nvidia_curand_cu12-10.3.5.147-py3-none-manylinux2014_x86_64.whl.metadata (1.5 kB)\n",
            "Collecting nvidia-cusolver-cu12==11.6.1.9 (from torch)\n",
            "  Downloading nvidia_cusolver_cu12-11.6.1.9-py3-none-manylinux2014_x86_64.whl.metadata (1.6 kB)\n",
            "Collecting nvidia-cusparse-cu12==12.3.1.170 (from torch)\n",
            "  Downloading nvidia_cusparse_cu12-12.3.1.170-py3-none-manylinux2014_x86_64.whl.metadata (1.6 kB)\n",
            "Requirement already satisfied: nvidia-cusparselt-cu12==0.6.2 in /usr/local/lib/python3.11/dist-packages (from torch) (0.6.2)\n",
            "Requirement already satisfied: nvidia-nccl-cu12==2.21.5 in /usr/local/lib/python3.11/dist-packages (from torch) (2.21.5)\n",
            "Requirement already satisfied: nvidia-nvtx-cu12==12.4.127 in /usr/local/lib/python3.11/dist-packages (from torch) (12.4.127)\n",
            "Collecting nvidia-nvjitlink-cu12==12.4.127 (from torch)\n",
            "  Downloading nvidia_nvjitlink_cu12-12.4.127-py3-none-manylinux2014_x86_64.whl.metadata (1.5 kB)\n",
            "Requirement already satisfied: triton==3.2.0 in /usr/local/lib/python3.11/dist-packages (from torch) (3.2.0)\n",
            "Requirement already satisfied: sympy==1.13.1 in /usr/local/lib/python3.11/dist-packages (from torch) (1.13.1)\n",
            "Requirement already satisfied: mpmath<1.4,>=1.1.0 in /usr/local/lib/python3.11/dist-packages (from sympy==1.13.1->torch) (1.3.0)\n",
            "Requirement already satisfied: numpy in /usr/local/lib/python3.11/dist-packages (from torchvision) (2.0.2)\n",
            "Requirement already satisfied: pillow!=8.3.*,>=5.3.0 in /usr/local/lib/python3.11/dist-packages (from torchvision) (11.2.1)\n",
            "Requirement already satisfied: MarkupSafe>=2.0 in /usr/local/lib/python3.11/dist-packages (from jinja2->torch) (3.0.2)\n",
            "Downloading nvidia_cublas_cu12-12.4.5.8-py3-none-manylinux2014_x86_64.whl (363.4 MB)\n",
            "\u001b[2K   \u001b[90m━━━━━━━━━━━━━━━━━━━━━━━━━━━━━━━━━━━━━━━━\u001b[0m \u001b[32m363.4/363.4 MB\u001b[0m \u001b[31m4.4 MB/s\u001b[0m eta \u001b[36m0:00:00\u001b[0m\n",
            "\u001b[?25hDownloading nvidia_cuda_cupti_cu12-12.4.127-py3-none-manylinux2014_x86_64.whl (13.8 MB)\n",
            "\u001b[2K   \u001b[90m━━━━━━━━━━━━━━━━━━━━━━━━━━━━━━━━━━━━━━━━\u001b[0m \u001b[32m13.8/13.8 MB\u001b[0m \u001b[31m73.0 MB/s\u001b[0m eta \u001b[36m0:00:00\u001b[0m\n",
            "\u001b[?25hDownloading nvidia_cuda_nvrtc_cu12-12.4.127-py3-none-manylinux2014_x86_64.whl (24.6 MB)\n",
            "\u001b[2K   \u001b[90m━━━━━━━━━━━━━━━━━━━━━━━━━━━━━━━━━━━━━━━━\u001b[0m \u001b[32m24.6/24.6 MB\u001b[0m \u001b[31m97.7 MB/s\u001b[0m eta \u001b[36m0:00:00\u001b[0m\n",
            "\u001b[?25hDownloading nvidia_cuda_runtime_cu12-12.4.127-py3-none-manylinux2014_x86_64.whl (883 kB)\n",
            "\u001b[2K   \u001b[90m━━━━━━━━━━━━━━━━━━━━━━━━━━━━━━━━━━━━━━━━\u001b[0m \u001b[32m883.7/883.7 kB\u001b[0m \u001b[31m58.5 MB/s\u001b[0m eta \u001b[36m0:00:00\u001b[0m\n",
            "\u001b[?25hDownloading nvidia_cudnn_cu12-9.1.0.70-py3-none-manylinux2014_x86_64.whl (664.8 MB)\n",
            "\u001b[2K   \u001b[90m━━━━━━━━━━━━━━━━━━━━━━━━━━━━━━━━━━━━━━━━\u001b[0m \u001b[32m664.8/664.8 MB\u001b[0m \u001b[31m2.0 MB/s\u001b[0m eta \u001b[36m0:00:00\u001b[0m\n",
            "\u001b[?25hDownloading nvidia_cufft_cu12-11.2.1.3-py3-none-manylinux2014_x86_64.whl (211.5 MB)\n",
            "\u001b[2K   \u001b[90m━━━━━━━━━━━━━━━━━━━━━━━━━━━━━━━━━━━━━━━━\u001b[0m \u001b[32m211.5/211.5 MB\u001b[0m \u001b[31m6.8 MB/s\u001b[0m eta \u001b[36m0:00:00\u001b[0m\n",
            "\u001b[?25hDownloading nvidia_curand_cu12-10.3.5.147-py3-none-manylinux2014_x86_64.whl (56.3 MB)\n",
            "\u001b[2K   \u001b[90m━━━━━━━━━━━━━━━━━━━━━━━━━━━━━━━━━━━━━━━━\u001b[0m \u001b[32m56.3/56.3 MB\u001b[0m \u001b[31m11.5 MB/s\u001b[0m eta \u001b[36m0:00:00\u001b[0m\n",
            "\u001b[?25hDownloading nvidia_cusolver_cu12-11.6.1.9-py3-none-manylinux2014_x86_64.whl (127.9 MB)\n",
            "\u001b[2K   \u001b[90m━━━━━━━━━━━━━━━━━━━━━━━━━━━━━━━━━━━━━━━━\u001b[0m \u001b[32m127.9/127.9 MB\u001b[0m \u001b[31m8.3 MB/s\u001b[0m eta \u001b[36m0:00:00\u001b[0m\n",
            "\u001b[?25hDownloading nvidia_cusparse_cu12-12.3.1.170-py3-none-manylinux2014_x86_64.whl (207.5 MB)\n",
            "\u001b[2K   \u001b[90m━━━━━━━━━━━━━━━━━━━━━━━━━━━━━━━━━━━━━━━━\u001b[0m \u001b[32m207.5/207.5 MB\u001b[0m \u001b[31m5.5 MB/s\u001b[0m eta \u001b[36m0:00:00\u001b[0m\n",
            "\u001b[?25hDownloading nvidia_nvjitlink_cu12-12.4.127-py3-none-manylinux2014_x86_64.whl (21.1 MB)\n",
            "\u001b[2K   \u001b[90m━━━━━━━━━━━━━━━━━━━━━━━━━━━━━━━━━━━━━━━━\u001b[0m \u001b[32m21.1/21.1 MB\u001b[0m \u001b[31m103.7 MB/s\u001b[0m eta \u001b[36m0:00:00\u001b[0m\n",
            "\u001b[?25hInstalling collected packages: nvidia-nvjitlink-cu12, nvidia-curand-cu12, nvidia-cufft-cu12, nvidia-cuda-runtime-cu12, nvidia-cuda-nvrtc-cu12, nvidia-cuda-cupti-cu12, nvidia-cublas-cu12, nvidia-cusparse-cu12, nvidia-cudnn-cu12, nvidia-cusolver-cu12\n",
            "  Attempting uninstall: nvidia-nvjitlink-cu12\n",
            "    Found existing installation: nvidia-nvjitlink-cu12 12.5.82\n",
            "    Uninstalling nvidia-nvjitlink-cu12-12.5.82:\n",
            "      Successfully uninstalled nvidia-nvjitlink-cu12-12.5.82\n",
            "  Attempting uninstall: nvidia-curand-cu12\n",
            "    Found existing installation: nvidia-curand-cu12 10.3.6.82\n",
            "    Uninstalling nvidia-curand-cu12-10.3.6.82:\n",
            "      Successfully uninstalled nvidia-curand-cu12-10.3.6.82\n",
            "  Attempting uninstall: nvidia-cufft-cu12\n",
            "    Found existing installation: nvidia-cufft-cu12 11.2.3.61\n",
            "    Uninstalling nvidia-cufft-cu12-11.2.3.61:\n",
            "      Successfully uninstalled nvidia-cufft-cu12-11.2.3.61\n",
            "  Attempting uninstall: nvidia-cuda-runtime-cu12\n",
            "    Found existing installation: nvidia-cuda-runtime-cu12 12.5.82\n",
            "    Uninstalling nvidia-cuda-runtime-cu12-12.5.82:\n",
            "      Successfully uninstalled nvidia-cuda-runtime-cu12-12.5.82\n",
            "  Attempting uninstall: nvidia-cuda-nvrtc-cu12\n",
            "    Found existing installation: nvidia-cuda-nvrtc-cu12 12.5.82\n",
            "    Uninstalling nvidia-cuda-nvrtc-cu12-12.5.82:\n",
            "      Successfully uninstalled nvidia-cuda-nvrtc-cu12-12.5.82\n",
            "  Attempting uninstall: nvidia-cuda-cupti-cu12\n",
            "    Found existing installation: nvidia-cuda-cupti-cu12 12.5.82\n",
            "    Uninstalling nvidia-cuda-cupti-cu12-12.5.82:\n",
            "      Successfully uninstalled nvidia-cuda-cupti-cu12-12.5.82\n",
            "  Attempting uninstall: nvidia-cublas-cu12\n",
            "    Found existing installation: nvidia-cublas-cu12 12.5.3.2\n",
            "    Uninstalling nvidia-cublas-cu12-12.5.3.2:\n",
            "      Successfully uninstalled nvidia-cublas-cu12-12.5.3.2\n",
            "  Attempting uninstall: nvidia-cusparse-cu12\n",
            "    Found existing installation: nvidia-cusparse-cu12 12.5.1.3\n",
            "    Uninstalling nvidia-cusparse-cu12-12.5.1.3:\n",
            "      Successfully uninstalled nvidia-cusparse-cu12-12.5.1.3\n",
            "  Attempting uninstall: nvidia-cudnn-cu12\n",
            "    Found existing installation: nvidia-cudnn-cu12 9.3.0.75\n",
            "    Uninstalling nvidia-cudnn-cu12-9.3.0.75:\n",
            "      Successfully uninstalled nvidia-cudnn-cu12-9.3.0.75\n",
            "  Attempting uninstall: nvidia-cusolver-cu12\n",
            "    Found existing installation: nvidia-cusolver-cu12 11.6.3.83\n",
            "    Uninstalling nvidia-cusolver-cu12-11.6.3.83:\n",
            "      Successfully uninstalled nvidia-cusolver-cu12-11.6.3.83\n",
            "Successfully installed nvidia-cublas-cu12-12.4.5.8 nvidia-cuda-cupti-cu12-12.4.127 nvidia-cuda-nvrtc-cu12-12.4.127 nvidia-cuda-runtime-cu12-12.4.127 nvidia-cudnn-cu12-9.1.0.70 nvidia-cufft-cu12-11.2.1.3 nvidia-curand-cu12-10.3.5.147 nvidia-cusolver-cu12-11.6.1.9 nvidia-cusparse-cu12-12.3.1.170 nvidia-nvjitlink-cu12-12.4.127\n",
            "Cloning into 'SwinIR'...\n",
            "remote: Enumerating objects: 333, done.\u001b[K\n",
            "remote: Counting objects: 100% (10/10), done.\u001b[K\n",
            "remote: Compressing objects: 100% (8/8), done.\u001b[K\n",
            "remote: Total 333 (delta 6), reused 2 (delta 2), pack-reused 323 (from 2)\u001b[K\n",
            "Receiving objects: 100% (333/333), 29.84 MiB | 30.58 MiB/s, done.\n",
            "Resolving deltas: 100% (119/119), done.\n",
            "/content/SwinIR\n"
          ]
        }
      ]
    },
    {
      "cell_type": "code",
      "source": [
        "from models.network_swinir import SwinIR\n",
        "import torch\n",
        "\n",
        "# Define SwinIR-M for x4 SR (match the pretrained model config)\n",
        "model = SwinIR(\n",
        "    upscale=4,\n",
        "    in_chans=3,\n",
        "    img_size=64,\n",
        "    window_size=8,\n",
        "    img_range=1.0,\n",
        "    depths=[6, 6, 6, 6, 6, 6],        # <-- SwinIR-M has 6 stages\n",
        "    embed_dim=180,                   # <-- Match SwinIR-M embed_dim\n",
        "    num_heads=[6, 6, 6, 6, 6, 6],    # <-- Match SwinIR-M heads\n",
        "    mlp_ratio=2,\n",
        "    upsampler='pixelshuffle',\n",
        "    resi_connection='1conv'\n",
        ")\n",
        "\n",
        "# Load pretrained weights\n",
        "checkpoint = torch.load('/content/drive/MyDrive/Project/001_classicalSR_DF2K_s64w8_SwinIR-M_x4.pth')\n",
        "model.load_state_dict(checkpoint['params'], strict=True)\n",
        "\n",
        "# Use device\n",
        "device = torch.device('cuda' if torch.cuda.is_available() else 'cpu')\n",
        "model = model.to(device)\n",
        "model.eval()\n",
        "\n",
        "print(\"✅ SwinIR-M x4 model loaded successfully.\")"
      ],
      "metadata": {
        "colab": {
          "base_uri": "https://localhost:8080/"
        },
        "id": "T30TYtf4Ghqh",
        "outputId": "62365baa-cc1c-48ac-b352-565d53b32e41"
      },
      "execution_count": null,
      "outputs": [
        {
          "output_type": "stream",
          "name": "stderr",
          "text": [
            "/usr/local/lib/python3.11/dist-packages/timm/models/layers/__init__.py:48: FutureWarning: Importing from timm.models.layers is deprecated, please import via timm.layers\n",
            "  warnings.warn(f\"Importing from {__name__} is deprecated, please import via timm.layers\", FutureWarning)\n",
            "/usr/local/lib/python3.11/dist-packages/torch/functional.py:539: UserWarning: torch.meshgrid: in an upcoming release, it will be required to pass the indexing argument. (Triggered internally at /pytorch/aten/src/ATen/native/TensorShape.cpp:3637.)\n",
            "  return _VF.meshgrid(tensors, **kwargs)  # type: ignore[attr-defined]\n"
          ]
        },
        {
          "output_type": "stream",
          "name": "stdout",
          "text": [
            "✅ SwinIR-M x4 model loaded successfully.\n"
          ]
        }
      ]
    },
    {
      "cell_type": "markdown",
      "metadata": {
        "id": "9a20c801"
      },
      "source": [
        "# Task\n",
        "Load the SwinIR model from \"/content/drive/MyDrive/Project/001_classicalSR_DF2K_s64w8_SwinIR-M_x4.pth\"."
      ]
    },
    {
      "cell_type": "markdown",
      "metadata": {
        "id": "82d2cc7e"
      },
      "source": [
        "## Load image\n",
        "\n",
        "### Subtask:\n",
        "Load the image that you want to upscale.\n"
      ]
    },
    {
      "cell_type": "markdown",
      "metadata": {
        "id": "6c0c9dcf"
      },
      "source": [
        "**Reasoning**:\n",
        "Import the necessary library for image loading and load the image.\n",
        "\n"
      ]
    },
    {
      "cell_type": "code",
      "metadata": {
        "colab": {
          "base_uri": "https://localhost:8080/",
          "height": 332
        },
        "id": "f2b53939",
        "outputId": "8b341440-2744-4048-8a8a-c81aeb0bfdec"
      },
      "source": [
        "from PIL import Image\n",
        "import numpy as np\n",
        "\n",
        "# Specify the path to the image file\n",
        "image_path = '/content/drive/MyDrive/Project/low_resolution_image.png' # Replace with your image path\n",
        "\n",
        "# Load the image\n",
        "img = Image.open(image_path).convert('RGB')\n",
        "img = np.array(img)\n",
        "print(f\"✅ Image loaded successfully from {image_path}. Shape: {img.shape}\")"
      ],
      "execution_count": null,
      "outputs": [
        {
          "output_type": "error",
          "ename": "FileNotFoundError",
          "evalue": "[Errno 2] No such file or directory: '/content/drive/MyDrive/Project/low_resolution_image.png'",
          "traceback": [
            "\u001b[0;31m---------------------------------------------------------------------------\u001b[0m",
            "\u001b[0;31mFileNotFoundError\u001b[0m                         Traceback (most recent call last)",
            "\u001b[0;32m/tmp/ipython-input-4-3313293251.py\u001b[0m in \u001b[0;36m<cell line: 0>\u001b[0;34m()\u001b[0m\n\u001b[1;32m      6\u001b[0m \u001b[0;34m\u001b[0m\u001b[0m\n\u001b[1;32m      7\u001b[0m \u001b[0;31m# Load the image\u001b[0m\u001b[0;34m\u001b[0m\u001b[0;34m\u001b[0m\u001b[0m\n\u001b[0;32m----> 8\u001b[0;31m \u001b[0mimg\u001b[0m \u001b[0;34m=\u001b[0m \u001b[0mImage\u001b[0m\u001b[0;34m.\u001b[0m\u001b[0mopen\u001b[0m\u001b[0;34m(\u001b[0m\u001b[0mimage_path\u001b[0m\u001b[0;34m)\u001b[0m\u001b[0;34m.\u001b[0m\u001b[0mconvert\u001b[0m\u001b[0;34m(\u001b[0m\u001b[0;34m'RGB'\u001b[0m\u001b[0;34m)\u001b[0m\u001b[0;34m\u001b[0m\u001b[0;34m\u001b[0m\u001b[0m\n\u001b[0m\u001b[1;32m      9\u001b[0m \u001b[0mimg\u001b[0m \u001b[0;34m=\u001b[0m \u001b[0mnp\u001b[0m\u001b[0;34m.\u001b[0m\u001b[0marray\u001b[0m\u001b[0;34m(\u001b[0m\u001b[0mimg\u001b[0m\u001b[0;34m)\u001b[0m\u001b[0;34m\u001b[0m\u001b[0;34m\u001b[0m\u001b[0m\n\u001b[1;32m     10\u001b[0m \u001b[0mprint\u001b[0m\u001b[0;34m(\u001b[0m\u001b[0;34mf\"✅ Image loaded successfully from {image_path}. Shape: {img.shape}\"\u001b[0m\u001b[0;34m)\u001b[0m\u001b[0;34m\u001b[0m\u001b[0;34m\u001b[0m\u001b[0m\n",
            "\u001b[0;32m/usr/local/lib/python3.11/dist-packages/PIL/Image.py\u001b[0m in \u001b[0;36mopen\u001b[0;34m(fp, mode, formats)\u001b[0m\n\u001b[1;32m   3503\u001b[0m \u001b[0;34m\u001b[0m\u001b[0m\n\u001b[1;32m   3504\u001b[0m     \u001b[0;32mif\u001b[0m \u001b[0mfilename\u001b[0m\u001b[0;34m:\u001b[0m\u001b[0;34m\u001b[0m\u001b[0;34m\u001b[0m\u001b[0m\n\u001b[0;32m-> 3505\u001b[0;31m         \u001b[0mfp\u001b[0m \u001b[0;34m=\u001b[0m \u001b[0mbuiltins\u001b[0m\u001b[0;34m.\u001b[0m\u001b[0mopen\u001b[0m\u001b[0;34m(\u001b[0m\u001b[0mfilename\u001b[0m\u001b[0;34m,\u001b[0m \u001b[0;34m\"rb\"\u001b[0m\u001b[0;34m)\u001b[0m\u001b[0;34m\u001b[0m\u001b[0;34m\u001b[0m\u001b[0m\n\u001b[0m\u001b[1;32m   3506\u001b[0m         \u001b[0mexclusive_fp\u001b[0m \u001b[0;34m=\u001b[0m \u001b[0;32mTrue\u001b[0m\u001b[0;34m\u001b[0m\u001b[0;34m\u001b[0m\u001b[0m\n\u001b[1;32m   3507\u001b[0m     \u001b[0;32melse\u001b[0m\u001b[0;34m:\u001b[0m\u001b[0;34m\u001b[0m\u001b[0;34m\u001b[0m\u001b[0m\n",
            "\u001b[0;31mFileNotFoundError\u001b[0m: [Errno 2] No such file or directory: '/content/drive/MyDrive/Project/low_resolution_image.png'"
          ]
        }
      ]
    },
    {
      "cell_type": "markdown",
      "metadata": {
        "id": "ccdf46e2"
      },
      "source": [
        "**Reasoning**:\n",
        "The previous command failed because the image file was not found. I need to load the image from a valid path. I will use the example low-resolution image provided in the cloned repository.\n",
        "\n"
      ]
    },
    {
      "cell_type": "code",
      "metadata": {
        "colab": {
          "base_uri": "https://localhost:8080/",
          "height": 332
        },
        "id": "9243Y_yjHMKj",
        "outputId": "aa58247a-c001-4c26-a12b-8c12a6d93580"
      },
      "source": [
        "# Specify the path to the example low-resolution image\n",
        "image_path = 'testsets/Set5/baby_GT.png' # Using an example image from the repository\n",
        "\n",
        "# Load the image\n",
        "img = Image.open(image_path).convert('RGB')\n",
        "img = np.array(img)\n",
        "print(f\"✅ Image loaded successfully from {image_path}. Shape: {img.shape}\")"
      ],
      "execution_count": null,
      "outputs": [
        {
          "output_type": "error",
          "ename": "FileNotFoundError",
          "evalue": "[Errno 2] No such file or directory: 'testsets/Set5/baby_GT.png'",
          "traceback": [
            "\u001b[0;31m---------------------------------------------------------------------------\u001b[0m",
            "\u001b[0;31mFileNotFoundError\u001b[0m                         Traceback (most recent call last)",
            "\u001b[0;32m/tmp/ipython-input-5-2903041860.py\u001b[0m in \u001b[0;36m<cell line: 0>\u001b[0;34m()\u001b[0m\n\u001b[1;32m      3\u001b[0m \u001b[0;34m\u001b[0m\u001b[0m\n\u001b[1;32m      4\u001b[0m \u001b[0;31m# Load the image\u001b[0m\u001b[0;34m\u001b[0m\u001b[0;34m\u001b[0m\u001b[0m\n\u001b[0;32m----> 5\u001b[0;31m \u001b[0mimg\u001b[0m \u001b[0;34m=\u001b[0m \u001b[0mImage\u001b[0m\u001b[0;34m.\u001b[0m\u001b[0mopen\u001b[0m\u001b[0;34m(\u001b[0m\u001b[0mimage_path\u001b[0m\u001b[0;34m)\u001b[0m\u001b[0;34m.\u001b[0m\u001b[0mconvert\u001b[0m\u001b[0;34m(\u001b[0m\u001b[0;34m'RGB'\u001b[0m\u001b[0;34m)\u001b[0m\u001b[0;34m\u001b[0m\u001b[0;34m\u001b[0m\u001b[0m\n\u001b[0m\u001b[1;32m      6\u001b[0m \u001b[0mimg\u001b[0m \u001b[0;34m=\u001b[0m \u001b[0mnp\u001b[0m\u001b[0;34m.\u001b[0m\u001b[0marray\u001b[0m\u001b[0;34m(\u001b[0m\u001b[0mimg\u001b[0m\u001b[0;34m)\u001b[0m\u001b[0;34m\u001b[0m\u001b[0;34m\u001b[0m\u001b[0m\n\u001b[1;32m      7\u001b[0m \u001b[0mprint\u001b[0m\u001b[0;34m(\u001b[0m\u001b[0;34mf\"✅ Image loaded successfully from {image_path}. Shape: {img.shape}\"\u001b[0m\u001b[0;34m)\u001b[0m\u001b[0;34m\u001b[0m\u001b[0;34m\u001b[0m\u001b[0m\n",
            "\u001b[0;32m/usr/local/lib/python3.11/dist-packages/PIL/Image.py\u001b[0m in \u001b[0;36mopen\u001b[0;34m(fp, mode, formats)\u001b[0m\n\u001b[1;32m   3503\u001b[0m \u001b[0;34m\u001b[0m\u001b[0m\n\u001b[1;32m   3504\u001b[0m     \u001b[0;32mif\u001b[0m \u001b[0mfilename\u001b[0m\u001b[0;34m:\u001b[0m\u001b[0;34m\u001b[0m\u001b[0;34m\u001b[0m\u001b[0m\n\u001b[0;32m-> 3505\u001b[0;31m         \u001b[0mfp\u001b[0m \u001b[0;34m=\u001b[0m \u001b[0mbuiltins\u001b[0m\u001b[0;34m.\u001b[0m\u001b[0mopen\u001b[0m\u001b[0;34m(\u001b[0m\u001b[0mfilename\u001b[0m\u001b[0;34m,\u001b[0m \u001b[0;34m\"rb\"\u001b[0m\u001b[0;34m)\u001b[0m\u001b[0;34m\u001b[0m\u001b[0;34m\u001b[0m\u001b[0m\n\u001b[0m\u001b[1;32m   3506\u001b[0m         \u001b[0mexclusive_fp\u001b[0m \u001b[0;34m=\u001b[0m \u001b[0;32mTrue\u001b[0m\u001b[0;34m\u001b[0m\u001b[0;34m\u001b[0m\u001b[0m\n\u001b[1;32m   3507\u001b[0m     \u001b[0;32melse\u001b[0m\u001b[0;34m:\u001b[0m\u001b[0;34m\u001b[0m\u001b[0;34m\u001b[0m\u001b[0m\n",
            "\u001b[0;31mFileNotFoundError\u001b[0m: [Errno 2] No such file or directory: 'testsets/Set5/baby_GT.png'"
          ]
        }
      ]
    },
    {
      "cell_type": "markdown",
      "metadata": {
        "id": "a32577da"
      },
      "source": [
        "**Reasoning**:\n",
        "The previous command failed because the image path was still incorrect. I need to find the correct path to an example image within the cloned SwinIR repository. I will list the files in the `testsets` directory to identify a valid image path.\n",
        "\n"
      ]
    },
    {
      "cell_type": "code",
      "metadata": {
        "colab": {
          "base_uri": "https://localhost:8080/"
        },
        "id": "Tb4qUTTJHNpy",
        "outputId": "9fb5fc6f-3546-4a4f-c2fe-26432f8dd1b0"
      },
      "source": [
        "import os\n",
        "print(os.listdir('testsets'))"
      ],
      "execution_count": null,
      "outputs": [
        {
          "output_type": "stream",
          "name": "stdout",
          "text": [
            "['classic5', 'Set12', 'Set5', 'McMaster', 'RealSRSet+5images']\n"
          ]
        }
      ]
    },
    {
      "cell_type": "markdown",
      "metadata": {
        "id": "ea30875e"
      },
      "source": [
        "**Reasoning**:\n",
        "I have identified the subdirectories within `testsets`. I will now list the contents of the `Set5` directory to find an image file.\n",
        "\n"
      ]
    },
    {
      "cell_type": "code",
      "metadata": {
        "colab": {
          "base_uri": "https://localhost:8080/"
        },
        "id": "de8f5857",
        "outputId": "17a28740-55e1-4a06-cc48-104b927d5c75"
      },
      "source": [
        "print(os.listdir('testsets/Set5'))"
      ],
      "execution_count": null,
      "outputs": [
        {
          "output_type": "stream",
          "name": "stdout",
          "text": [
            "['LR_bicubic', 'HR']\n"
          ]
        }
      ]
    },
    {
      "cell_type": "markdown",
      "metadata": {
        "id": "fb8acac5"
      },
      "source": [
        "**Reasoning**:\n",
        "I have identified the subdirectories within `testsets/Set5`. The images are likely in the 'HR' directory. I will now list the contents of the `HR` directory to find an image file.\n",
        "\n"
      ]
    },
    {
      "cell_type": "code",
      "metadata": {
        "colab": {
          "base_uri": "https://localhost:8080/"
        },
        "id": "948de05d",
        "outputId": "8f66e7ca-e4b2-4370-fb8f-93f3d802bbc3"
      },
      "source": [
        "print(os.listdir('testsets/Set5/HR'))"
      ],
      "execution_count": null,
      "outputs": [
        {
          "output_type": "stream",
          "name": "stdout",
          "text": [
            "['butterfly.png', 'bird.png', 'head.png', 'woman.png', 'baby.png']\n"
          ]
        }
      ]
    },
    {
      "cell_type": "markdown",
      "metadata": {
        "id": "8cbd5d64"
      },
      "source": [
        "**Reasoning**:\n",
        "I have found image files in the 'testsets/Set5/HR' directory. I will load one of these images.\n",
        "\n"
      ]
    },
    {
      "cell_type": "code",
      "metadata": {
        "colab": {
          "base_uri": "https://localhost:8080/"
        },
        "id": "2e7dadab",
        "outputId": "a88fe237-8dbb-45b7-bfca-75bb0512508c"
      },
      "source": [
        "# Specify the path to an example image\n",
        "image_path = 'testsets/Set5/HR/baby.png'\n",
        "\n",
        "# Load the image\n",
        "img = Image.open(image_path).convert('RGB')\n",
        "img = np.array(img)\n",
        "print(f\"✅ Image loaded successfully from {image_path}. Shape: {img.shape}\")"
      ],
      "execution_count": null,
      "outputs": [
        {
          "output_type": "stream",
          "name": "stdout",
          "text": [
            "✅ Image loaded successfully from testsets/Set5/HR/baby.png. Shape: (512, 512, 3)\n"
          ]
        }
      ]
    },
    {
      "cell_type": "markdown",
      "metadata": {
        "id": "3b90ed40"
      },
      "source": [
        "## Preprocess image\n",
        "\n",
        "### Subtask:\n",
        "Preprocess the image to be compatible with the model. This might involve resizing, normalizing, or converting color spaces.\n"
      ]
    },
    {
      "cell_type": "markdown",
      "metadata": {
        "id": "70bac670"
      },
      "source": [
        "**Reasoning**:\n",
        "Preprocess the image by converting it to a PyTorch tensor, normalizing it, rearranging its dimensions, adding a batch dimension, and moving it to the specified device.\n",
        "\n"
      ]
    },
    {
      "cell_type": "code",
      "metadata": {
        "colab": {
          "base_uri": "https://localhost:8080/"
        },
        "id": "ba2a19f0",
        "outputId": "f2eee1c7-d025-4783-da84-0c8d657298d3"
      },
      "source": [
        "import torch\n",
        "import numpy as np\n",
        "\n",
        "# Convert image from NumPy array to PyTorch tensor\n",
        "img_tensor = torch.from_numpy(img).float()\n",
        "\n",
        "# Normalize the image tensor by dividing by 255.0\n",
        "img_tensor /= 255.0\n",
        "\n",
        "# Rearrange dimensions from HWC to NCHW\n",
        "img_tensor = img_tensor.permute(2, 0, 1).unsqueeze(0)\n",
        "\n",
        "# Move the image tensor to the device\n",
        "img_tensor = img_tensor.to(device)\n",
        "\n",
        "print(\"✅ Image preprocessed and ready for model input.\")\n",
        "print(f\"Processed image tensor shape: {img_tensor.shape}\")"
      ],
      "execution_count": null,
      "outputs": [
        {
          "output_type": "stream",
          "name": "stdout",
          "text": [
            "✅ Image preprocessed and ready for model input.\n",
            "Processed image tensor shape: torch.Size([1, 3, 512, 512])\n"
          ]
        }
      ]
    },
    {
      "cell_type": "code",
      "metadata": {
        "colab": {
          "base_uri": "https://localhost:8080/"
        },
        "id": "d040a682",
        "outputId": "59f70314-9c5e-4d92-c66d-821fdfdadd69"
      },
      "source": [
        "import zipfile\n",
        "import os\n",
        "\n",
        "zip_path = '/content/drive/MyDrive/Project/reds_split_dataset.zip'\n",
        "extract_path = '/content/reds_split_dataset'\n",
        "\n",
        "# Create the extraction directory if it doesn't exist\n",
        "os.makedirs(extract_path, exist_ok=True)\n",
        "\n",
        "# Unzip the file\n",
        "with zipfile.ZipFile(zip_path, 'r') as zip_ref:\n",
        "    zip_ref.extractall(extract_path)\n",
        "\n",
        "print(f\"✅ File unzipped successfully to {extract_path}\")"
      ],
      "execution_count": null,
      "outputs": [
        {
          "output_type": "stream",
          "name": "stdout",
          "text": [
            "✅ File unzipped successfully to /content/reds_split_dataset\n"
          ]
        }
      ]
    },
    {
      "cell_type": "markdown",
      "metadata": {
        "id": "564d374f"
      },
      "source": [
        "# Task\n",
        "Apply the SwinIR model from \"/content/drive/MyDrive/Project/001_classicalSR_DF2K_s64w8_SwinIR-M_x4.pth\" to the images in the \"lr\" subfolders within the \"train\", \"val\", and \"test\" directories of the dataset located at \"/content/drive/MyDrive/Project/reds_split_dataset.zip\"."
      ]
    },
    {
      "cell_type": "markdown",
      "metadata": {
        "id": "dbeb143e"
      },
      "source": [
        "## Identify image paths\n",
        "\n",
        "### Subtask:\n",
        "Traverse the specified directories (`train`, `val`, `test`) to find the low-resolution image files.\n"
      ]
    },
    {
      "cell_type": "markdown",
      "metadata": {
        "id": "b10703c2"
      },
      "source": [
        "**Reasoning**:\n",
        "I will traverse the specified directories to find the low-resolution image files and store their paths in a list.\n",
        "\n"
      ]
    },
    {
      "cell_type": "code",
      "metadata": {
        "colab": {
          "base_uri": "https://localhost:8080/"
        },
        "id": "81f91435",
        "outputId": "df485dc2-ac2f-4ab0-f14c-b9014ff5ecf5"
      },
      "source": [
        "import os\n",
        "\n",
        "# Define the base directory\n",
        "base_dir = '/content/reds_split_dataset'\n",
        "\n",
        "# Define the subdirectories to process\n",
        "subdirs = ['train', 'val', 'test']\n",
        "\n",
        "# Initialize an empty list to store image paths\n",
        "lr_image_paths = []\n",
        "\n",
        "# Iterate through each subdirectory\n",
        "for subdir in subdirs:\n",
        "    lr_dir = os.path.join(base_dir, subdir, 'lr')\n",
        "    # Use os.walk to traverse the 'lr' subfolder\n",
        "    for root, _, files in os.walk(lr_dir):\n",
        "        for file in files:\n",
        "            # Check if the file is an image (you can add more extensions if needed)\n",
        "            if file.lower().endswith(('.png', '.jpg', '.jpeg')):\n",
        "                image_path = os.path.join(root, file)\n",
        "                lr_image_paths.append(image_path)\n",
        "\n",
        "print(f\"✅ Found {len(lr_image_paths)} low-resolution images.\")"
      ],
      "execution_count": null,
      "outputs": [
        {
          "output_type": "stream",
          "name": "stdout",
          "text": [
            "✅ Found 24000 low-resolution images.\n"
          ]
        }
      ]
    },
    {
      "cell_type": "markdown",
      "metadata": {
        "id": "9ba650fb"
      },
      "source": [
        "## Load and preprocess images\n",
        "\n",
        "### Subtask:\n",
        "For each low-resolution image found, load it and preprocess it to be compatible with the SwinIR model (similar to the previous preprocessing step).\n"
      ]
    },
    {
      "cell_type": "markdown",
      "metadata": {
        "id": "0f96a7b2"
      },
      "source": [
        "**Reasoning**:\n",
        "Iterate through the identified image paths, load each image, preprocess it into a PyTorch tensor, and store the processed tensors.\n",
        "\n"
      ]
    },
    {
      "cell_type": "code",
      "metadata": {
        "colab": {
          "base_uri": "https://localhost:8080/"
        },
        "id": "26789033",
        "outputId": "b5b4aef4-fc56-4113-e210-218191f4aa67"
      },
      "source": [
        "from PIL import Image\n",
        "import numpy as np\n",
        "import torch\n",
        "\n",
        "preprocessed_images = {}\n",
        "\n",
        "for image_path in lr_image_paths:\n",
        "    # Load the image\n",
        "    img = Image.open(image_path).convert('RGB')\n",
        "    img = np.array(img)\n",
        "\n",
        "    # Convert image from NumPy array to PyTorch tensor\n",
        "    img_tensor = torch.from_numpy(img).float()\n",
        "\n",
        "    # Normalize the image tensor by dividing by 255.0\n",
        "    img_tensor /= 255.0\n",
        "\n",
        "    # Rearrange dimensions from HWC to NCHW\n",
        "    img_tensor = img_tensor.permute(2, 0, 1).unsqueeze(0)\n",
        "\n",
        "    # Move the image tensor to the device\n",
        "    img_tensor = img_tensor.to(device)\n",
        "\n",
        "    # Store the preprocessed image tensor\n",
        "    preprocessed_images[image_path] = img_tensor\n",
        "\n",
        "print(f\"✅ Preprocessed {len(preprocessed_images)} images.\")"
      ],
      "execution_count": null,
      "outputs": [
        {
          "output_type": "stream",
          "name": "stdout",
          "text": [
            "✅ Preprocessed 24000 images.\n"
          ]
        }
      ]
    },
    {
      "cell_type": "markdown",
      "metadata": {
        "id": "b9606841"
      },
      "source": [
        "## Apply swinir model\n",
        "\n",
        "### Subtask:\n",
        "Pass the preprocessed low-resolution image through the loaded SwinIR model to obtain the super-resolved output.\n"
      ]
    },
    {
      "cell_type": "markdown",
      "metadata": {
        "id": "eea56dd8"
      },
      "source": [
        "**Reasoning**:\n",
        "Iterate through the preprocessed images and apply the loaded SwinIR model to each, storing the results.\n",
        "\n"
      ]
    },
    {
      "cell_type": "code",
      "metadata": {
        "colab": {
          "base_uri": "https://localhost:8080/"
        },
        "id": "183ccdf3",
        "outputId": "db37a75c-d6a8-4b8a-fd56-fa18784e3b22"
      },
      "source": [
        "super_resolved_images = {}\n",
        "\n",
        "# Iterate through each preprocessed image tensor\n",
        "for image_path, img_tensor in preprocessed_images.items():\n",
        "    # Pass the image tensor through the model\n",
        "    with torch.no_grad():  # Disable gradient calculation for inference\n",
        "        output = model(img_tensor)\n",
        "\n",
        "    # Store the super-resolved output tensor\n",
        "    super_resolved_images[image_path] = output\n",
        "\n",
        "print(f\"✅ Applied SwinIR model to {len(super_resolved_images)} images.\")"
      ],
      "execution_count": null,
      "outputs": [
        {
          "output_type": "stream",
          "name": "stdout",
          "text": [
            "✅ Applied SwinIR model to 24000 images.\n"
          ]
        }
      ]
    },
    {
      "cell_type": "markdown",
      "metadata": {
        "id": "c2d61279"
      },
      "source": [
        "## Postprocess and save images\n",
        "\n",
        "### Subtask:\n",
        "Postprocess the model's output to convert it back to an image format, and save the super-resolved image to a designated output directory, maintaining a similar directory structure to the input.\n"
      ]
    },
    {
      "cell_type": "markdown",
      "metadata": {
        "id": "63860352"
      },
      "source": [
        "**Reasoning**:\n",
        "Create the output directory structure that mirrors the input structure and then iterate through the super-resolved images to postprocess and save them.\n",
        "\n"
      ]
    },
    {
      "cell_type": "code",
      "metadata": {
        "colab": {
          "base_uri": "https://localhost:8080/"
        },
        "id": "ca4bfb3c",
        "outputId": "f379af7e-ee3c-4d74-ba01-27a353d9d89a"
      },
      "source": [
        "import os\n",
        "from PIL import Image\n",
        "import numpy as np\n",
        "import torch\n",
        "\n",
        "# Define the base output directory\n",
        "output_base_dir = '/content/super_resolved_dataset'\n",
        "\n",
        "# Create the output directory structure\n",
        "for subdir in subdirs:\n",
        "    output_subdir = os.path.join(output_base_dir, subdir)\n",
        "    os.makedirs(output_subdir, exist_ok=True)\n",
        "\n",
        "# Iterate through the super-resolved images\n",
        "for image_path, sr_tensor in super_resolved_images.items():\n",
        "    # Move to CPU and remove batch dimension\n",
        "    sr_tensor = sr_tensor.squeeze(0).cpu()\n",
        "\n",
        "    # Convert to NumPy array\n",
        "    sr_img = sr_tensor.mul(255).clamp(0, 255).byte().permute(1, 2, 0).numpy()\n",
        "\n",
        "    # Convert to PIL Image\n",
        "    sr_img = Image.fromarray(sr_img, mode='RGB')\n",
        "\n",
        "    # Construct the output path\n",
        "    # Replace the input base directory with the output base directory\n",
        "    # and remove the 'lr' part from the path\n",
        "    relative_path = os.path.relpath(image_path, base_dir)\n",
        "    # Remove the 'lr' directory from the relative path\n",
        "    parts = relative_path.split(os.sep)\n",
        "    if 'lr' in parts:\n",
        "        parts.remove('lr')\n",
        "    output_path = os.path.join(output_base_dir, *parts)\n",
        "\n",
        "    # Create parent directories if they don't exist\n",
        "    os.makedirs(os.path.dirname(output_path), exist_ok=True)\n",
        "\n",
        "    # Save the super-resolved image\n",
        "    sr_img.save(output_path)\n",
        "\n",
        "print(f\"✅ Saved {len(super_resolved_images)} super-resolved images to {output_base_dir}.\")"
      ],
      "execution_count": null,
      "outputs": [
        {
          "output_type": "stream",
          "name": "stdout",
          "text": [
            "✅ Saved 24000 super-resolved images to /content/super_resolved_dataset.\n"
          ]
        }
      ]
    },
    {
      "cell_type": "markdown",
      "metadata": {
        "id": "43990cf1"
      },
      "source": [
        "## Summary:\n",
        "\n",
        "### Data Analysis Key Findings\n",
        "\n",
        "*   A total of 24,000 low-resolution images were identified across the `train`, `val`, and `test` subdirectories of the dataset.\n",
        "*   All 24,000 identified low-resolution images were successfully loaded, preprocessed (converted to PyTorch tensors, normalized, and dimensionally rearranged), and are ready for model inference.\n",
        "*   The SwinIR model was successfully applied to all 24,000 preprocessed images, generating super-resolved output tensors.\n",
        "*   All 24,000 super-resolved images were successfully postprocessed (converted back to image format) and saved to the designated output directory `/content/super_resolved_dataset`, maintaining a similar directory structure to the input dataset.\n",
        "\n",
        "### Insights or Next Steps\n",
        "\n",
        "*   The super-resolved dataset is now available for further analysis, such as quality assessment compared to original high-resolution images if available, or for use in subsequent tasks.\n",
        "*   Consider evaluating the performance of the SwinIR model on this specific dataset by comparing the super-resolved images to ground truth high-resolution images using relevant metrics (e.g., PSNR, SSIM).\n"
      ]
    },
    {
      "cell_type": "markdown",
      "metadata": {
        "id": "3af71487"
      },
      "source": [
        "## Identify image paths\n",
        "\n",
        "### Subtask:\n",
        "Traverse the specified directories (`train`, `val`, `test`) to find the low-resolution image files."
      ]
    },
    {
      "cell_type": "markdown",
      "metadata": {
        "id": "5e8e6ff3"
      },
      "source": [
        "**Reasoning**:\n",
        "I will traverse the specified directories to find the low-resolution image files and store their paths in a list."
      ]
    },
    {
      "cell_type": "code",
      "metadata": {
        "colab": {
          "base_uri": "https://localhost:8080/"
        },
        "id": "46f20ae5",
        "outputId": "754f56de-e734-40d4-8490-afdcc8fb90c8"
      },
      "source": [
        "import os\n",
        "\n",
        "# Define the base directory\n",
        "base_dir = '/content/reds_split_dataset'\n",
        "\n",
        "# Define the subdirectories to process\n",
        "subdirs = ['train', 'val', 'test']\n",
        "\n",
        "# Initialize an empty list to store image paths\n",
        "lr_image_paths = []\n",
        "\n",
        "# Iterate through each subdirectory\n",
        "for subdir in subdirs:\n",
        "    lr_dir = os.path.join(base_dir, subdir, 'lr')\n",
        "    # Use os.walk to traverse the 'lr' subfolder\n",
        "    for root, _, files in os.walk(lr_dir):\n",
        "        for file in files:\n",
        "            # Check if the file is an image (you can add more extensions if needed)\n",
        "            if file.lower().endswith(('.png', '.jpg', '.jpeg')):\n",
        "                image_path = os.path.join(root, file)\n",
        "                lr_image_paths.append(image_path)\n",
        "\n",
        "print(f\"✅ Found {len(lr_image_paths)} low-resolution images.\")"
      ],
      "execution_count": null,
      "outputs": [
        {
          "output_type": "stream",
          "name": "stdout",
          "text": [
            "✅ Found 24000 low-resolution images.\n"
          ]
        }
      ]
    },
    {
      "cell_type": "markdown",
      "metadata": {
        "id": "b031779c"
      },
      "source": [
        "## Load and preprocess images\n",
        "\n",
        "### Subtask:\n",
        "For each low-resolution image found, load it and preprocess it to be compatible with the SwinIR model (similar to the previous preprocessing step)."
      ]
    },
    {
      "cell_type": "markdown",
      "metadata": {
        "id": "6501a2d0"
      },
      "source": [
        "**Reasoning**:\n",
        "Iterate through the identified image paths, load each image, preprocess it into a PyTorch tensor, and store the processed tensors."
      ]
    },
    {
      "cell_type": "code",
      "metadata": {
        "colab": {
          "base_uri": "https://localhost:8080/"
        },
        "id": "95c5d6b9",
        "outputId": "26f09353-9276-43af-862d-95b6a1721b0e"
      },
      "source": [
        "from PIL import Image\n",
        "import numpy as np\n",
        "import torch\n",
        "\n",
        "preprocessed_images = {}\n",
        "\n",
        "for image_path in lr_image_paths:\n",
        "    # Load the image\n",
        "    img = Image.open(image_path).convert('RGB')\n",
        "    img = np.array(img)\n",
        "\n",
        "    # Convert image from NumPy array to PyTorch tensor\n",
        "    img_tensor = torch.from_numpy(img).float()\n",
        "\n",
        "    # Normalize the image tensor by dividing by 255.0\n",
        "    img_tensor /= 255.0\n",
        "\n",
        "    # Rearrange dimensions from HWC to NCHW\n",
        "    img_tensor = img_tensor.permute(2, 0, 1).unsqueeze(0)\n",
        "\n",
        "    # Move the image tensor to the device\n",
        "    img_tensor = img_tensor.to(device)\n",
        "\n",
        "    # Store the preprocessed image tensor\n",
        "    preprocessed_images[image_path] = img_tensor\n",
        "\n",
        "print(f\"✅ Preprocessed {len(preprocessed_images)} images.\")"
      ],
      "execution_count": null,
      "outputs": [
        {
          "output_type": "stream",
          "name": "stdout",
          "text": [
            "✅ Preprocessed 24000 images.\n"
          ]
        }
      ]
    },
    {
      "cell_type": "markdown",
      "metadata": {
        "id": "69cef4ec"
      },
      "source": [
        "## Apply swinir model\n",
        "\n",
        "### Subtask:\n",
        "Pass the preprocessed low-resolution image through the loaded SwinIR model to obtain the super-resolved output."
      ]
    },
    {
      "cell_type": "markdown",
      "metadata": {
        "id": "dfbfddaf"
      },
      "source": [
        "**Reasoning**:\n",
        "Iterate through the preprocessed images and apply the loaded SwinIR model to each, storing the results."
      ]
    },
    {
      "cell_type": "code",
      "metadata": {
        "colab": {
          "base_uri": "https://localhost:8080/",
          "height": 356
        },
        "id": "050abe41",
        "outputId": "77f653ba-2171-4a9a-8662-6078f19f59b5"
      },
      "source": [
        "super_resolved_images = {}\n",
        "\n",
        "# Iterate through each preprocessed image tensor\n",
        "for image_path, img_tensor in preprocessed_images.items():\n",
        "    # Pass the image tensor through the model\n",
        "    with torch.no_grad():  # Disable gradient calculation for inference\n",
        "        output = model(img_tensor)\n",
        "\n",
        "    # Store the super-resolved output tensor\n",
        "    super_resolved_images[image_path] = output\n",
        "\n",
        "print(f\"✅ Applied SwinIR model to {len(super_resolved_images)} images.\")"
      ],
      "execution_count": null,
      "outputs": [
        {
          "output_type": "error",
          "ename": "KeyboardInterrupt",
          "evalue": "",
          "traceback": [
            "\u001b[0;31m---------------------------------------------------------------------------\u001b[0m",
            "\u001b[0;31mKeyboardInterrupt\u001b[0m                         Traceback (most recent call last)",
            "\u001b[0;32m/tmp/ipython-input-18-3934690820.py\u001b[0m in \u001b[0;36m<cell line: 0>\u001b[0;34m()\u001b[0m\n\u001b[1;32m      5\u001b[0m     \u001b[0;31m# Pass the image tensor through the model\u001b[0m\u001b[0;34m\u001b[0m\u001b[0;34m\u001b[0m\u001b[0m\n\u001b[1;32m      6\u001b[0m     \u001b[0;32mwith\u001b[0m \u001b[0mtorch\u001b[0m\u001b[0;34m.\u001b[0m\u001b[0mno_grad\u001b[0m\u001b[0;34m(\u001b[0m\u001b[0;34m)\u001b[0m\u001b[0;34m:\u001b[0m  \u001b[0;31m# Disable gradient calculation for inference\u001b[0m\u001b[0;34m\u001b[0m\u001b[0;34m\u001b[0m\u001b[0m\n\u001b[0;32m----> 7\u001b[0;31m         \u001b[0moutput\u001b[0m \u001b[0;34m=\u001b[0m \u001b[0mmodel\u001b[0m\u001b[0;34m(\u001b[0m\u001b[0mimg_tensor\u001b[0m\u001b[0;34m)\u001b[0m\u001b[0;34m\u001b[0m\u001b[0;34m\u001b[0m\u001b[0m\n\u001b[0m\u001b[1;32m      8\u001b[0m \u001b[0;34m\u001b[0m\u001b[0m\n\u001b[1;32m      9\u001b[0m     \u001b[0;31m# Store the super-resolved output tensor\u001b[0m\u001b[0;34m\u001b[0m\u001b[0;34m\u001b[0m\u001b[0m\n",
            "\u001b[0;32m/usr/local/lib/python3.11/dist-packages/torch/nn/modules/module.py\u001b[0m in \u001b[0;36m_wrapped_call_impl\u001b[0;34m(self, *args, **kwargs)\u001b[0m\n\u001b[1;32m   1737\u001b[0m             \u001b[0;32mreturn\u001b[0m \u001b[0mself\u001b[0m\u001b[0;34m.\u001b[0m\u001b[0m_compiled_call_impl\u001b[0m\u001b[0;34m(\u001b[0m\u001b[0;34m*\u001b[0m\u001b[0margs\u001b[0m\u001b[0;34m,\u001b[0m \u001b[0;34m**\u001b[0m\u001b[0mkwargs\u001b[0m\u001b[0;34m)\u001b[0m  \u001b[0;31m# type: ignore[misc]\u001b[0m\u001b[0;34m\u001b[0m\u001b[0;34m\u001b[0m\u001b[0m\n\u001b[1;32m   1738\u001b[0m         \u001b[0;32melse\u001b[0m\u001b[0;34m:\u001b[0m\u001b[0;34m\u001b[0m\u001b[0;34m\u001b[0m\u001b[0m\n\u001b[0;32m-> 1739\u001b[0;31m             \u001b[0;32mreturn\u001b[0m \u001b[0mself\u001b[0m\u001b[0;34m.\u001b[0m\u001b[0m_call_impl\u001b[0m\u001b[0;34m(\u001b[0m\u001b[0;34m*\u001b[0m\u001b[0margs\u001b[0m\u001b[0;34m,\u001b[0m \u001b[0;34m**\u001b[0m\u001b[0mkwargs\u001b[0m\u001b[0;34m)\u001b[0m\u001b[0;34m\u001b[0m\u001b[0;34m\u001b[0m\u001b[0m\n\u001b[0m\u001b[1;32m   1740\u001b[0m \u001b[0;34m\u001b[0m\u001b[0m\n\u001b[1;32m   1741\u001b[0m     \u001b[0;31m# torchrec tests the code consistency with the following code\u001b[0m\u001b[0;34m\u001b[0m\u001b[0;34m\u001b[0m\u001b[0m\n",
            "\u001b[0;32m/usr/local/lib/python3.11/dist-packages/torch/nn/modules/module.py\u001b[0m in \u001b[0;36m_call_impl\u001b[0;34m(self, *args, **kwargs)\u001b[0m\n\u001b[1;32m   1748\u001b[0m                 \u001b[0;32mor\u001b[0m \u001b[0m_global_backward_pre_hooks\u001b[0m \u001b[0;32mor\u001b[0m \u001b[0m_global_backward_hooks\u001b[0m\u001b[0;34m\u001b[0m\u001b[0;34m\u001b[0m\u001b[0m\n\u001b[1;32m   1749\u001b[0m                 or _global_forward_hooks or _global_forward_pre_hooks):\n\u001b[0;32m-> 1750\u001b[0;31m             \u001b[0;32mreturn\u001b[0m \u001b[0mforward_call\u001b[0m\u001b[0;34m(\u001b[0m\u001b[0;34m*\u001b[0m\u001b[0margs\u001b[0m\u001b[0;34m,\u001b[0m \u001b[0;34m**\u001b[0m\u001b[0mkwargs\u001b[0m\u001b[0;34m)\u001b[0m\u001b[0;34m\u001b[0m\u001b[0;34m\u001b[0m\u001b[0m\n\u001b[0m\u001b[1;32m   1751\u001b[0m \u001b[0;34m\u001b[0m\u001b[0m\n\u001b[1;32m   1752\u001b[0m         \u001b[0mresult\u001b[0m \u001b[0;34m=\u001b[0m \u001b[0;32mNone\u001b[0m\u001b[0;34m\u001b[0m\u001b[0;34m\u001b[0m\u001b[0m\n",
            "\u001b[0;32m/content/SwinIR/models/network_swinir.py\u001b[0m in \u001b[0;36mforward\u001b[0;34m(self, x)\u001b[0m\n\u001b[1;32m    813\u001b[0m             \u001b[0;31m# for classical SR\u001b[0m\u001b[0;34m\u001b[0m\u001b[0;34m\u001b[0m\u001b[0m\n\u001b[1;32m    814\u001b[0m             \u001b[0mx\u001b[0m \u001b[0;34m=\u001b[0m \u001b[0mself\u001b[0m\u001b[0;34m.\u001b[0m\u001b[0mconv_first\u001b[0m\u001b[0;34m(\u001b[0m\u001b[0mx\u001b[0m\u001b[0;34m)\u001b[0m\u001b[0;34m\u001b[0m\u001b[0;34m\u001b[0m\u001b[0m\n\u001b[0;32m--> 815\u001b[0;31m             \u001b[0mx\u001b[0m \u001b[0;34m=\u001b[0m \u001b[0mself\u001b[0m\u001b[0;34m.\u001b[0m\u001b[0mconv_after_body\u001b[0m\u001b[0;34m(\u001b[0m\u001b[0mself\u001b[0m\u001b[0;34m.\u001b[0m\u001b[0mforward_features\u001b[0m\u001b[0;34m(\u001b[0m\u001b[0mx\u001b[0m\u001b[0;34m)\u001b[0m\u001b[0;34m)\u001b[0m \u001b[0;34m+\u001b[0m \u001b[0mx\u001b[0m\u001b[0;34m\u001b[0m\u001b[0;34m\u001b[0m\u001b[0m\n\u001b[0m\u001b[1;32m    816\u001b[0m             \u001b[0mx\u001b[0m \u001b[0;34m=\u001b[0m \u001b[0mself\u001b[0m\u001b[0;34m.\u001b[0m\u001b[0mconv_before_upsample\u001b[0m\u001b[0;34m(\u001b[0m\u001b[0mx\u001b[0m\u001b[0;34m)\u001b[0m\u001b[0;34m\u001b[0m\u001b[0;34m\u001b[0m\u001b[0m\n\u001b[1;32m    817\u001b[0m             \u001b[0mx\u001b[0m \u001b[0;34m=\u001b[0m \u001b[0mself\u001b[0m\u001b[0;34m.\u001b[0m\u001b[0mconv_last\u001b[0m\u001b[0;34m(\u001b[0m\u001b[0mself\u001b[0m\u001b[0;34m.\u001b[0m\u001b[0mupsample\u001b[0m\u001b[0;34m(\u001b[0m\u001b[0mx\u001b[0m\u001b[0;34m)\u001b[0m\u001b[0;34m)\u001b[0m\u001b[0;34m\u001b[0m\u001b[0;34m\u001b[0m\u001b[0m\n",
            "\u001b[0;32m/content/SwinIR/models/network_swinir.py\u001b[0m in \u001b[0;36mforward_features\u001b[0;34m(self, x)\u001b[0m\n\u001b[1;32m    796\u001b[0m \u001b[0;34m\u001b[0m\u001b[0m\n\u001b[1;32m    797\u001b[0m         \u001b[0;32mfor\u001b[0m \u001b[0mlayer\u001b[0m \u001b[0;32min\u001b[0m \u001b[0mself\u001b[0m\u001b[0;34m.\u001b[0m\u001b[0mlayers\u001b[0m\u001b[0;34m:\u001b[0m\u001b[0;34m\u001b[0m\u001b[0;34m\u001b[0m\u001b[0m\n\u001b[0;32m--> 798\u001b[0;31m             \u001b[0mx\u001b[0m \u001b[0;34m=\u001b[0m \u001b[0mlayer\u001b[0m\u001b[0;34m(\u001b[0m\u001b[0mx\u001b[0m\u001b[0;34m,\u001b[0m \u001b[0mx_size\u001b[0m\u001b[0;34m)\u001b[0m\u001b[0;34m\u001b[0m\u001b[0;34m\u001b[0m\u001b[0m\n\u001b[0m\u001b[1;32m    799\u001b[0m \u001b[0;34m\u001b[0m\u001b[0m\n\u001b[1;32m    800\u001b[0m         \u001b[0mx\u001b[0m \u001b[0;34m=\u001b[0m \u001b[0mself\u001b[0m\u001b[0;34m.\u001b[0m\u001b[0mnorm\u001b[0m\u001b[0;34m(\u001b[0m\u001b[0mx\u001b[0m\u001b[0;34m)\u001b[0m  \u001b[0;31m# B L C\u001b[0m\u001b[0;34m\u001b[0m\u001b[0;34m\u001b[0m\u001b[0m\n",
            "\u001b[0;32m/usr/local/lib/python3.11/dist-packages/torch/nn/modules/module.py\u001b[0m in \u001b[0;36m_wrapped_call_impl\u001b[0;34m(self, *args, **kwargs)\u001b[0m\n\u001b[1;32m   1737\u001b[0m             \u001b[0;32mreturn\u001b[0m \u001b[0mself\u001b[0m\u001b[0;34m.\u001b[0m\u001b[0m_compiled_call_impl\u001b[0m\u001b[0;34m(\u001b[0m\u001b[0;34m*\u001b[0m\u001b[0margs\u001b[0m\u001b[0;34m,\u001b[0m \u001b[0;34m**\u001b[0m\u001b[0mkwargs\u001b[0m\u001b[0;34m)\u001b[0m  \u001b[0;31m# type: ignore[misc]\u001b[0m\u001b[0;34m\u001b[0m\u001b[0;34m\u001b[0m\u001b[0m\n\u001b[1;32m   1738\u001b[0m         \u001b[0;32melse\u001b[0m\u001b[0;34m:\u001b[0m\u001b[0;34m\u001b[0m\u001b[0;34m\u001b[0m\u001b[0m\n\u001b[0;32m-> 1739\u001b[0;31m             \u001b[0;32mreturn\u001b[0m \u001b[0mself\u001b[0m\u001b[0;34m.\u001b[0m\u001b[0m_call_impl\u001b[0m\u001b[0;34m(\u001b[0m\u001b[0;34m*\u001b[0m\u001b[0margs\u001b[0m\u001b[0;34m,\u001b[0m \u001b[0;34m**\u001b[0m\u001b[0mkwargs\u001b[0m\u001b[0;34m)\u001b[0m\u001b[0;34m\u001b[0m\u001b[0;34m\u001b[0m\u001b[0m\n\u001b[0m\u001b[1;32m   1740\u001b[0m \u001b[0;34m\u001b[0m\u001b[0m\n\u001b[1;32m   1741\u001b[0m     \u001b[0;31m# torchrec tests the code consistency with the following code\u001b[0m\u001b[0;34m\u001b[0m\u001b[0;34m\u001b[0m\u001b[0m\n",
            "\u001b[0;32m/usr/local/lib/python3.11/dist-packages/torch/nn/modules/module.py\u001b[0m in \u001b[0;36m_call_impl\u001b[0;34m(self, *args, **kwargs)\u001b[0m\n\u001b[1;32m   1748\u001b[0m                 \u001b[0;32mor\u001b[0m \u001b[0m_global_backward_pre_hooks\u001b[0m \u001b[0;32mor\u001b[0m \u001b[0m_global_backward_hooks\u001b[0m\u001b[0;34m\u001b[0m\u001b[0;34m\u001b[0m\u001b[0m\n\u001b[1;32m   1749\u001b[0m                 or _global_forward_hooks or _global_forward_pre_hooks):\n\u001b[0;32m-> 1750\u001b[0;31m             \u001b[0;32mreturn\u001b[0m \u001b[0mforward_call\u001b[0m\u001b[0;34m(\u001b[0m\u001b[0;34m*\u001b[0m\u001b[0margs\u001b[0m\u001b[0;34m,\u001b[0m \u001b[0;34m**\u001b[0m\u001b[0mkwargs\u001b[0m\u001b[0;34m)\u001b[0m\u001b[0;34m\u001b[0m\u001b[0;34m\u001b[0m\u001b[0m\n\u001b[0m\u001b[1;32m   1751\u001b[0m \u001b[0;34m\u001b[0m\u001b[0m\n\u001b[1;32m   1752\u001b[0m         \u001b[0mresult\u001b[0m \u001b[0;34m=\u001b[0m \u001b[0;32mNone\u001b[0m\u001b[0;34m\u001b[0m\u001b[0;34m\u001b[0m\u001b[0m\n",
            "\u001b[0;32m/content/SwinIR/models/network_swinir.py\u001b[0m in \u001b[0;36mforward\u001b[0;34m(self, x, x_size)\u001b[0m\n\u001b[1;32m    480\u001b[0m \u001b[0;34m\u001b[0m\u001b[0m\n\u001b[1;32m    481\u001b[0m     \u001b[0;32mdef\u001b[0m \u001b[0mforward\u001b[0m\u001b[0;34m(\u001b[0m\u001b[0mself\u001b[0m\u001b[0;34m,\u001b[0m \u001b[0mx\u001b[0m\u001b[0;34m,\u001b[0m \u001b[0mx_size\u001b[0m\u001b[0;34m)\u001b[0m\u001b[0;34m:\u001b[0m\u001b[0;34m\u001b[0m\u001b[0;34m\u001b[0m\u001b[0m\n\u001b[0;32m--> 482\u001b[0;31m         \u001b[0;32mreturn\u001b[0m \u001b[0mself\u001b[0m\u001b[0;34m.\u001b[0m\u001b[0mpatch_embed\u001b[0m\u001b[0;34m(\u001b[0m\u001b[0mself\u001b[0m\u001b[0;34m.\u001b[0m\u001b[0mconv\u001b[0m\u001b[0;34m(\u001b[0m\u001b[0mself\u001b[0m\u001b[0;34m.\u001b[0m\u001b[0mpatch_unembed\u001b[0m\u001b[0;34m(\u001b[0m\u001b[0mself\u001b[0m\u001b[0;34m.\u001b[0m\u001b[0mresidual_group\u001b[0m\u001b[0;34m(\u001b[0m\u001b[0mx\u001b[0m\u001b[0;34m,\u001b[0m \u001b[0mx_size\u001b[0m\u001b[0;34m)\u001b[0m\u001b[0;34m,\u001b[0m \u001b[0mx_size\u001b[0m\u001b[0;34m)\u001b[0m\u001b[0;34m)\u001b[0m\u001b[0;34m)\u001b[0m \u001b[0;34m+\u001b[0m \u001b[0mx\u001b[0m\u001b[0;34m\u001b[0m\u001b[0;34m\u001b[0m\u001b[0m\n\u001b[0m\u001b[1;32m    483\u001b[0m \u001b[0;34m\u001b[0m\u001b[0m\n\u001b[1;32m    484\u001b[0m     \u001b[0;32mdef\u001b[0m \u001b[0mflops\u001b[0m\u001b[0;34m(\u001b[0m\u001b[0mself\u001b[0m\u001b[0;34m)\u001b[0m\u001b[0;34m:\u001b[0m\u001b[0;34m\u001b[0m\u001b[0;34m\u001b[0m\u001b[0m\n",
            "\u001b[0;32m/usr/local/lib/python3.11/dist-packages/torch/nn/modules/module.py\u001b[0m in \u001b[0;36m_wrapped_call_impl\u001b[0;34m(self, *args, **kwargs)\u001b[0m\n\u001b[1;32m   1737\u001b[0m             \u001b[0;32mreturn\u001b[0m \u001b[0mself\u001b[0m\u001b[0;34m.\u001b[0m\u001b[0m_compiled_call_impl\u001b[0m\u001b[0;34m(\u001b[0m\u001b[0;34m*\u001b[0m\u001b[0margs\u001b[0m\u001b[0;34m,\u001b[0m \u001b[0;34m**\u001b[0m\u001b[0mkwargs\u001b[0m\u001b[0;34m)\u001b[0m  \u001b[0;31m# type: ignore[misc]\u001b[0m\u001b[0;34m\u001b[0m\u001b[0;34m\u001b[0m\u001b[0m\n\u001b[1;32m   1738\u001b[0m         \u001b[0;32melse\u001b[0m\u001b[0;34m:\u001b[0m\u001b[0;34m\u001b[0m\u001b[0;34m\u001b[0m\u001b[0m\n\u001b[0;32m-> 1739\u001b[0;31m             \u001b[0;32mreturn\u001b[0m \u001b[0mself\u001b[0m\u001b[0;34m.\u001b[0m\u001b[0m_call_impl\u001b[0m\u001b[0;34m(\u001b[0m\u001b[0;34m*\u001b[0m\u001b[0margs\u001b[0m\u001b[0;34m,\u001b[0m \u001b[0;34m**\u001b[0m\u001b[0mkwargs\u001b[0m\u001b[0;34m)\u001b[0m\u001b[0;34m\u001b[0m\u001b[0;34m\u001b[0m\u001b[0m\n\u001b[0m\u001b[1;32m   1740\u001b[0m \u001b[0;34m\u001b[0m\u001b[0m\n\u001b[1;32m   1741\u001b[0m     \u001b[0;31m# torchrec tests the code consistency with the following code\u001b[0m\u001b[0;34m\u001b[0m\u001b[0;34m\u001b[0m\u001b[0m\n",
            "\u001b[0;32m/usr/local/lib/python3.11/dist-packages/torch/nn/modules/module.py\u001b[0m in \u001b[0;36m_call_impl\u001b[0;34m(self, *args, **kwargs)\u001b[0m\n\u001b[1;32m   1748\u001b[0m                 \u001b[0;32mor\u001b[0m \u001b[0m_global_backward_pre_hooks\u001b[0m \u001b[0;32mor\u001b[0m \u001b[0m_global_backward_hooks\u001b[0m\u001b[0;34m\u001b[0m\u001b[0;34m\u001b[0m\u001b[0m\n\u001b[1;32m   1749\u001b[0m                 or _global_forward_hooks or _global_forward_pre_hooks):\n\u001b[0;32m-> 1750\u001b[0;31m             \u001b[0;32mreturn\u001b[0m \u001b[0mforward_call\u001b[0m\u001b[0;34m(\u001b[0m\u001b[0;34m*\u001b[0m\u001b[0margs\u001b[0m\u001b[0;34m,\u001b[0m \u001b[0;34m**\u001b[0m\u001b[0mkwargs\u001b[0m\u001b[0;34m)\u001b[0m\u001b[0;34m\u001b[0m\u001b[0;34m\u001b[0m\u001b[0m\n\u001b[0m\u001b[1;32m   1751\u001b[0m \u001b[0;34m\u001b[0m\u001b[0m\n\u001b[1;32m   1752\u001b[0m         \u001b[0mresult\u001b[0m \u001b[0;34m=\u001b[0m \u001b[0;32mNone\u001b[0m\u001b[0;34m\u001b[0m\u001b[0;34m\u001b[0m\u001b[0m\n",
            "\u001b[0;32m/content/SwinIR/models/network_swinir.py\u001b[0m in \u001b[0;36mforward\u001b[0;34m(self, x, x_size)\u001b[0m\n\u001b[1;32m    400\u001b[0m                 \u001b[0mx\u001b[0m \u001b[0;34m=\u001b[0m \u001b[0mcheckpoint\u001b[0m\u001b[0;34m.\u001b[0m\u001b[0mcheckpoint\u001b[0m\u001b[0;34m(\u001b[0m\u001b[0mblk\u001b[0m\u001b[0;34m,\u001b[0m \u001b[0mx\u001b[0m\u001b[0;34m,\u001b[0m \u001b[0mx_size\u001b[0m\u001b[0;34m)\u001b[0m\u001b[0;34m\u001b[0m\u001b[0;34m\u001b[0m\u001b[0m\n\u001b[1;32m    401\u001b[0m             \u001b[0;32melse\u001b[0m\u001b[0;34m:\u001b[0m\u001b[0;34m\u001b[0m\u001b[0;34m\u001b[0m\u001b[0m\n\u001b[0;32m--> 402\u001b[0;31m                 \u001b[0mx\u001b[0m \u001b[0;34m=\u001b[0m \u001b[0mblk\u001b[0m\u001b[0;34m(\u001b[0m\u001b[0mx\u001b[0m\u001b[0;34m,\u001b[0m \u001b[0mx_size\u001b[0m\u001b[0;34m)\u001b[0m\u001b[0;34m\u001b[0m\u001b[0;34m\u001b[0m\u001b[0m\n\u001b[0m\u001b[1;32m    403\u001b[0m         \u001b[0;32mif\u001b[0m \u001b[0mself\u001b[0m\u001b[0;34m.\u001b[0m\u001b[0mdownsample\u001b[0m \u001b[0;32mis\u001b[0m \u001b[0;32mnot\u001b[0m \u001b[0;32mNone\u001b[0m\u001b[0;34m:\u001b[0m\u001b[0;34m\u001b[0m\u001b[0;34m\u001b[0m\u001b[0m\n\u001b[1;32m    404\u001b[0m             \u001b[0mx\u001b[0m \u001b[0;34m=\u001b[0m \u001b[0mself\u001b[0m\u001b[0;34m.\u001b[0m\u001b[0mdownsample\u001b[0m\u001b[0;34m(\u001b[0m\u001b[0mx\u001b[0m\u001b[0;34m)\u001b[0m\u001b[0;34m\u001b[0m\u001b[0;34m\u001b[0m\u001b[0m\n",
            "\u001b[0;32m/usr/local/lib/python3.11/dist-packages/torch/nn/modules/module.py\u001b[0m in \u001b[0;36m_wrapped_call_impl\u001b[0;34m(self, *args, **kwargs)\u001b[0m\n\u001b[1;32m   1737\u001b[0m             \u001b[0;32mreturn\u001b[0m \u001b[0mself\u001b[0m\u001b[0;34m.\u001b[0m\u001b[0m_compiled_call_impl\u001b[0m\u001b[0;34m(\u001b[0m\u001b[0;34m*\u001b[0m\u001b[0margs\u001b[0m\u001b[0;34m,\u001b[0m \u001b[0;34m**\u001b[0m\u001b[0mkwargs\u001b[0m\u001b[0;34m)\u001b[0m  \u001b[0;31m# type: ignore[misc]\u001b[0m\u001b[0;34m\u001b[0m\u001b[0;34m\u001b[0m\u001b[0m\n\u001b[1;32m   1738\u001b[0m         \u001b[0;32melse\u001b[0m\u001b[0;34m:\u001b[0m\u001b[0;34m\u001b[0m\u001b[0;34m\u001b[0m\u001b[0m\n\u001b[0;32m-> 1739\u001b[0;31m             \u001b[0;32mreturn\u001b[0m \u001b[0mself\u001b[0m\u001b[0;34m.\u001b[0m\u001b[0m_call_impl\u001b[0m\u001b[0;34m(\u001b[0m\u001b[0;34m*\u001b[0m\u001b[0margs\u001b[0m\u001b[0;34m,\u001b[0m \u001b[0;34m**\u001b[0m\u001b[0mkwargs\u001b[0m\u001b[0;34m)\u001b[0m\u001b[0;34m\u001b[0m\u001b[0;34m\u001b[0m\u001b[0m\n\u001b[0m\u001b[1;32m   1740\u001b[0m \u001b[0;34m\u001b[0m\u001b[0m\n\u001b[1;32m   1741\u001b[0m     \u001b[0;31m# torchrec tests the code consistency with the following code\u001b[0m\u001b[0;34m\u001b[0m\u001b[0;34m\u001b[0m\u001b[0m\n",
            "\u001b[0;32m/usr/local/lib/python3.11/dist-packages/torch/nn/modules/module.py\u001b[0m in \u001b[0;36m_call_impl\u001b[0;34m(self, *args, **kwargs)\u001b[0m\n\u001b[1;32m   1748\u001b[0m                 \u001b[0;32mor\u001b[0m \u001b[0m_global_backward_pre_hooks\u001b[0m \u001b[0;32mor\u001b[0m \u001b[0m_global_backward_hooks\u001b[0m\u001b[0;34m\u001b[0m\u001b[0;34m\u001b[0m\u001b[0m\n\u001b[1;32m   1749\u001b[0m                 or _global_forward_hooks or _global_forward_pre_hooks):\n\u001b[0;32m-> 1750\u001b[0;31m             \u001b[0;32mreturn\u001b[0m \u001b[0mforward_call\u001b[0m\u001b[0;34m(\u001b[0m\u001b[0;34m*\u001b[0m\u001b[0margs\u001b[0m\u001b[0;34m,\u001b[0m \u001b[0;34m**\u001b[0m\u001b[0mkwargs\u001b[0m\u001b[0;34m)\u001b[0m\u001b[0;34m\u001b[0m\u001b[0;34m\u001b[0m\u001b[0m\n\u001b[0m\u001b[1;32m   1751\u001b[0m \u001b[0;34m\u001b[0m\u001b[0m\n\u001b[1;32m   1752\u001b[0m         \u001b[0mresult\u001b[0m \u001b[0;34m=\u001b[0m \u001b[0;32mNone\u001b[0m\u001b[0;34m\u001b[0m\u001b[0;34m\u001b[0m\u001b[0m\n",
            "\u001b[0;32m/content/SwinIR/models/network_swinir.py\u001b[0m in \u001b[0;36mforward\u001b[0;34m(self, x, x_size)\u001b[0m\n\u001b[1;32m    260\u001b[0m             \u001b[0mattn_windows\u001b[0m \u001b[0;34m=\u001b[0m \u001b[0mself\u001b[0m\u001b[0;34m.\u001b[0m\u001b[0mattn\u001b[0m\u001b[0;34m(\u001b[0m\u001b[0mx_windows\u001b[0m\u001b[0;34m,\u001b[0m \u001b[0mmask\u001b[0m\u001b[0;34m=\u001b[0m\u001b[0mself\u001b[0m\u001b[0;34m.\u001b[0m\u001b[0mattn_mask\u001b[0m\u001b[0;34m)\u001b[0m  \u001b[0;31m# nW*B, window_size*window_size, C\u001b[0m\u001b[0;34m\u001b[0m\u001b[0;34m\u001b[0m\u001b[0m\n\u001b[1;32m    261\u001b[0m         \u001b[0;32melse\u001b[0m\u001b[0;34m:\u001b[0m\u001b[0;34m\u001b[0m\u001b[0;34m\u001b[0m\u001b[0m\n\u001b[0;32m--> 262\u001b[0;31m             \u001b[0mattn_windows\u001b[0m \u001b[0;34m=\u001b[0m \u001b[0mself\u001b[0m\u001b[0;34m.\u001b[0m\u001b[0mattn\u001b[0m\u001b[0;34m(\u001b[0m\u001b[0mx_windows\u001b[0m\u001b[0;34m,\u001b[0m \u001b[0mmask\u001b[0m\u001b[0;34m=\u001b[0m\u001b[0mself\u001b[0m\u001b[0;34m.\u001b[0m\u001b[0mcalculate_mask\u001b[0m\u001b[0;34m(\u001b[0m\u001b[0mx_size\u001b[0m\u001b[0;34m)\u001b[0m\u001b[0;34m.\u001b[0m\u001b[0mto\u001b[0m\u001b[0;34m(\u001b[0m\u001b[0mx\u001b[0m\u001b[0;34m.\u001b[0m\u001b[0mdevice\u001b[0m\u001b[0;34m)\u001b[0m\u001b[0;34m)\u001b[0m\u001b[0;34m\u001b[0m\u001b[0;34m\u001b[0m\u001b[0m\n\u001b[0m\u001b[1;32m    263\u001b[0m \u001b[0;34m\u001b[0m\u001b[0m\n\u001b[1;32m    264\u001b[0m         \u001b[0;31m# merge windows\u001b[0m\u001b[0;34m\u001b[0m\u001b[0;34m\u001b[0m\u001b[0m\n",
            "\u001b[0;32m/usr/local/lib/python3.11/dist-packages/torch/nn/modules/module.py\u001b[0m in \u001b[0;36m_wrapped_call_impl\u001b[0;34m(self, *args, **kwargs)\u001b[0m\n\u001b[1;32m   1737\u001b[0m             \u001b[0;32mreturn\u001b[0m \u001b[0mself\u001b[0m\u001b[0;34m.\u001b[0m\u001b[0m_compiled_call_impl\u001b[0m\u001b[0;34m(\u001b[0m\u001b[0;34m*\u001b[0m\u001b[0margs\u001b[0m\u001b[0;34m,\u001b[0m \u001b[0;34m**\u001b[0m\u001b[0mkwargs\u001b[0m\u001b[0;34m)\u001b[0m  \u001b[0;31m# type: ignore[misc]\u001b[0m\u001b[0;34m\u001b[0m\u001b[0;34m\u001b[0m\u001b[0m\n\u001b[1;32m   1738\u001b[0m         \u001b[0;32melse\u001b[0m\u001b[0;34m:\u001b[0m\u001b[0;34m\u001b[0m\u001b[0;34m\u001b[0m\u001b[0m\n\u001b[0;32m-> 1739\u001b[0;31m             \u001b[0;32mreturn\u001b[0m \u001b[0mself\u001b[0m\u001b[0;34m.\u001b[0m\u001b[0m_call_impl\u001b[0m\u001b[0;34m(\u001b[0m\u001b[0;34m*\u001b[0m\u001b[0margs\u001b[0m\u001b[0;34m,\u001b[0m \u001b[0;34m**\u001b[0m\u001b[0mkwargs\u001b[0m\u001b[0;34m)\u001b[0m\u001b[0;34m\u001b[0m\u001b[0;34m\u001b[0m\u001b[0m\n\u001b[0m\u001b[1;32m   1740\u001b[0m \u001b[0;34m\u001b[0m\u001b[0m\n\u001b[1;32m   1741\u001b[0m     \u001b[0;31m# torchrec tests the code consistency with the following code\u001b[0m\u001b[0;34m\u001b[0m\u001b[0;34m\u001b[0m\u001b[0m\n",
            "\u001b[0;32m/usr/local/lib/python3.11/dist-packages/torch/nn/modules/module.py\u001b[0m in \u001b[0;36m_call_impl\u001b[0;34m(self, *args, **kwargs)\u001b[0m\n\u001b[1;32m   1748\u001b[0m                 \u001b[0;32mor\u001b[0m \u001b[0m_global_backward_pre_hooks\u001b[0m \u001b[0;32mor\u001b[0m \u001b[0m_global_backward_hooks\u001b[0m\u001b[0;34m\u001b[0m\u001b[0;34m\u001b[0m\u001b[0m\n\u001b[1;32m   1749\u001b[0m                 or _global_forward_hooks or _global_forward_pre_hooks):\n\u001b[0;32m-> 1750\u001b[0;31m             \u001b[0;32mreturn\u001b[0m \u001b[0mforward_call\u001b[0m\u001b[0;34m(\u001b[0m\u001b[0;34m*\u001b[0m\u001b[0margs\u001b[0m\u001b[0;34m,\u001b[0m \u001b[0;34m**\u001b[0m\u001b[0mkwargs\u001b[0m\u001b[0;34m)\u001b[0m\u001b[0;34m\u001b[0m\u001b[0;34m\u001b[0m\u001b[0m\n\u001b[0m\u001b[1;32m   1751\u001b[0m \u001b[0;34m\u001b[0m\u001b[0m\n\u001b[1;32m   1752\u001b[0m         \u001b[0mresult\u001b[0m \u001b[0;34m=\u001b[0m \u001b[0;32mNone\u001b[0m\u001b[0;34m\u001b[0m\u001b[0;34m\u001b[0m\u001b[0m\n",
            "\u001b[0;32m/content/SwinIR/models/network_swinir.py\u001b[0m in \u001b[0;36mforward\u001b[0;34m(self, x, mask)\u001b[0m\n\u001b[1;32m    125\u001b[0m         \u001b[0mattn\u001b[0m \u001b[0;34m=\u001b[0m \u001b[0;34m(\u001b[0m\u001b[0mq\u001b[0m \u001b[0;34m@\u001b[0m \u001b[0mk\u001b[0m\u001b[0;34m.\u001b[0m\u001b[0mtranspose\u001b[0m\u001b[0;34m(\u001b[0m\u001b[0;34m-\u001b[0m\u001b[0;36m2\u001b[0m\u001b[0;34m,\u001b[0m \u001b[0;34m-\u001b[0m\u001b[0;36m1\u001b[0m\u001b[0;34m)\u001b[0m\u001b[0;34m)\u001b[0m\u001b[0;34m\u001b[0m\u001b[0;34m\u001b[0m\u001b[0m\n\u001b[1;32m    126\u001b[0m \u001b[0;34m\u001b[0m\u001b[0m\n\u001b[0;32m--> 127\u001b[0;31m         relative_position_bias = self.relative_position_bias_table[self.relative_position_index.view(-1)].view(\n\u001b[0m\u001b[1;32m    128\u001b[0m             self.window_size[0] * self.window_size[1], self.window_size[0] * self.window_size[1], -1)  # Wh*Ww,Wh*Ww,nH\n\u001b[1;32m    129\u001b[0m         \u001b[0mrelative_position_bias\u001b[0m \u001b[0;34m=\u001b[0m \u001b[0mrelative_position_bias\u001b[0m\u001b[0;34m.\u001b[0m\u001b[0mpermute\u001b[0m\u001b[0;34m(\u001b[0m\u001b[0;36m2\u001b[0m\u001b[0;34m,\u001b[0m \u001b[0;36m0\u001b[0m\u001b[0;34m,\u001b[0m \u001b[0;36m1\u001b[0m\u001b[0;34m)\u001b[0m\u001b[0;34m.\u001b[0m\u001b[0mcontiguous\u001b[0m\u001b[0;34m(\u001b[0m\u001b[0;34m)\u001b[0m  \u001b[0;31m# nH, Wh*Ww, Wh*Ww\u001b[0m\u001b[0;34m\u001b[0m\u001b[0;34m\u001b[0m\u001b[0m\n",
            "\u001b[0;32m/usr/local/lib/python3.11/dist-packages/torch/nn/modules/module.py\u001b[0m in \u001b[0;36m__getattr__\u001b[0;34m(self, name)\u001b[0m\n\u001b[1;32m   1913\u001b[0m     \u001b[0;31m# on `torch.nn.Module` and all its subclasses is largely disabled as a result. See:\u001b[0m\u001b[0;34m\u001b[0m\u001b[0;34m\u001b[0m\u001b[0m\n\u001b[1;32m   1914\u001b[0m     \u001b[0;31m# https://github.com/pytorch/pytorch/pull/115074\u001b[0m\u001b[0;34m\u001b[0m\u001b[0;34m\u001b[0m\u001b[0m\n\u001b[0;32m-> 1915\u001b[0;31m     \u001b[0;32mdef\u001b[0m \u001b[0m__getattr__\u001b[0m\u001b[0;34m(\u001b[0m\u001b[0mself\u001b[0m\u001b[0;34m,\u001b[0m \u001b[0mname\u001b[0m\u001b[0;34m:\u001b[0m \u001b[0mstr\u001b[0m\u001b[0;34m)\u001b[0m \u001b[0;34m->\u001b[0m \u001b[0mUnion\u001b[0m\u001b[0;34m[\u001b[0m\u001b[0mTensor\u001b[0m\u001b[0;34m,\u001b[0m \u001b[0;34m\"Module\"\u001b[0m\u001b[0;34m]\u001b[0m\u001b[0;34m:\u001b[0m\u001b[0;34m\u001b[0m\u001b[0;34m\u001b[0m\u001b[0m\n\u001b[0m\u001b[1;32m   1916\u001b[0m         \u001b[0;32mif\u001b[0m \u001b[0;34m\"_parameters\"\u001b[0m \u001b[0;32min\u001b[0m \u001b[0mself\u001b[0m\u001b[0;34m.\u001b[0m\u001b[0m__dict__\u001b[0m\u001b[0;34m:\u001b[0m\u001b[0;34m\u001b[0m\u001b[0;34m\u001b[0m\u001b[0m\n\u001b[1;32m   1917\u001b[0m             \u001b[0m_parameters\u001b[0m \u001b[0;34m=\u001b[0m \u001b[0mself\u001b[0m\u001b[0;34m.\u001b[0m\u001b[0m__dict__\u001b[0m\u001b[0;34m[\u001b[0m\u001b[0;34m\"_parameters\"\u001b[0m\u001b[0;34m]\u001b[0m\u001b[0;34m\u001b[0m\u001b[0;34m\u001b[0m\u001b[0m\n",
            "\u001b[0;31mKeyboardInterrupt\u001b[0m: "
          ]
        }
      ]
    },
    {
      "cell_type": "markdown",
      "metadata": {
        "id": "38006f4d"
      },
      "source": [
        "# Task\n",
        "Apply the SwinIR model located at \"/content/drive/MyDrive/Project/001_classicalSR_DF2K_s64w8_SwinIR-M_x4.pth\" to a sample low-resolution image from the dataset located at \"/content/drive/MyDrive/Project/reds_split_dataset.zip\", generate the super-resolved output, and calculate and display evaluation metrics (PSNR, SSIM) against the corresponding high-resolution image."
      ]
    },
    {
      "cell_type": "markdown",
      "metadata": {
        "id": "a4a2fa4e"
      },
      "source": [
        "## Select a sample image\n",
        "\n",
        "### Subtask:\n",
        "Choose one low-resolution image path from the list of identified paths.\n"
      ]
    },
    {
      "cell_type": "markdown",
      "metadata": {
        "id": "b9dda0f0"
      },
      "source": [
        "**Reasoning**:\n",
        "I will select the first image path from the `lr_image_paths` list and store it in a new variable.\n",
        "\n"
      ]
    },
    {
      "cell_type": "code",
      "metadata": {
        "colab": {
          "base_uri": "https://localhost:8080/"
        },
        "id": "6147905e",
        "outputId": "54036726-c4c9-432e-8e5c-14e13023f4ec"
      },
      "source": [
        "sample_lr_image_path = lr_image_paths[0]\n",
        "print(f\"✅ Selected sample low-resolution image path: {sample_lr_image_path}\")"
      ],
      "execution_count": null,
      "outputs": [
        {
          "output_type": "stream",
          "name": "stdout",
          "text": [
            "✅ Selected sample low-resolution image path: /content/reds_split_dataset/train/lr/130/00000087.png\n"
          ]
        }
      ]
    },
    {
      "cell_type": "markdown",
      "metadata": {
        "id": "d170c2a7"
      },
      "source": [
        "## Load and preprocess sample image\n",
        "\n",
        "### Subtask:\n",
        "Load and preprocess the selected low-resolution image to be compatible with the SwinIR model.\n"
      ]
    },
    {
      "cell_type": "markdown",
      "metadata": {
        "id": "c425e815"
      },
      "source": [
        "**Reasoning**:\n",
        "I will load and preprocess the selected low-resolution image according to the instructions.\n",
        "\n"
      ]
    },
    {
      "cell_type": "code",
      "metadata": {
        "colab": {
          "base_uri": "https://localhost:8080/"
        },
        "id": "0bd3bb8c",
        "outputId": "4f59f583-72d9-465e-810d-3156ff6d44bd"
      },
      "source": [
        "# Load the image\n",
        "img = Image.open(sample_lr_image_path).convert('RGB')\n",
        "img = np.array(img)\n",
        "\n",
        "# Convert image from NumPy array to PyTorch tensor\n",
        "img_tensor = torch.from_numpy(img).float()\n",
        "\n",
        "# Normalize the image tensor by dividing by 255.0\n",
        "img_tensor /= 255.0\n",
        "\n",
        "# Rearrange dimensions from HWC to NCHW\n",
        "img_tensor = img_tensor.permute(2, 0, 1).unsqueeze(0)\n",
        "\n",
        "# Move the image tensor to the device\n",
        "sample_preprocessed_image = img_tensor.to(device)\n",
        "\n",
        "print(\"✅ Sample image preprocessed and ready for model input.\")\n",
        "print(f\"Processed sample image tensor shape: {sample_preprocessed_image.shape}\")"
      ],
      "execution_count": null,
      "outputs": [
        {
          "output_type": "stream",
          "name": "stdout",
          "text": [
            "✅ Sample image preprocessed and ready for model input.\n",
            "Processed sample image tensor shape: torch.Size([1, 3, 32, 32])\n"
          ]
        }
      ]
    },
    {
      "cell_type": "markdown",
      "metadata": {
        "id": "34b75c5d"
      },
      "source": [
        "## Apply swinir model to sample image\n",
        "\n",
        "### Subtask:\n",
        "Pass the preprocessed sample image through the loaded SwinIR model to get the super-resolved output.\n"
      ]
    },
    {
      "cell_type": "markdown",
      "metadata": {
        "id": "85d15d63"
      },
      "source": [
        "**Reasoning**:\n",
        "Pass the preprocessed sample image through the loaded SwinIR model to get the super-resolved output and store it in a new variable, disabling gradient calculation.\n",
        "\n"
      ]
    },
    {
      "cell_type": "code",
      "metadata": {
        "colab": {
          "base_uri": "https://localhost:8080/"
        },
        "id": "c5dc4610",
        "outputId": "e2e841a6-a1c0-47e1-d82e-0a72fc5dfcbc"
      },
      "source": [
        "with torch.no_grad():\n",
        "    sample_super_resolved_output = model(sample_preprocessed_image)\n",
        "\n",
        "print(\"✅ Applied SwinIR model to the sample image.\")"
      ],
      "execution_count": null,
      "outputs": [
        {
          "output_type": "stream",
          "name": "stdout",
          "text": [
            "✅ Applied SwinIR model to the sample image.\n"
          ]
        }
      ]
    },
    {
      "cell_type": "markdown",
      "metadata": {
        "id": "835b3eab"
      },
      "source": [
        "## Postprocess super-resolved image\n",
        "\n",
        "### Subtask:\n",
        "Postprocess the model's output for the sample image to convert it back to an image format.\n"
      ]
    },
    {
      "cell_type": "markdown",
      "metadata": {
        "id": "28a634c8"
      },
      "source": [
        "**Reasoning**:\n",
        "Postprocess the model's output for the sample image by converting it to a PIL Image.\n",
        "\n"
      ]
    },
    {
      "cell_type": "code",
      "metadata": {
        "colab": {
          "base_uri": "https://localhost:8080/"
        },
        "id": "50c23daa",
        "outputId": "61e6a2a8-9e0c-4b06-800e-b6b90aadfe88"
      },
      "source": [
        "# Move to CPU and remove batch dimension\n",
        "sample_super_resolved_output = sample_super_resolved_output.squeeze(0).cpu()\n",
        "\n",
        "# Convert to NumPy array\n",
        "sample_sr_img_np = sample_super_resolved_output.mul(255).clamp(0, 255).byte().permute(1, 2, 0).numpy()\n",
        "\n",
        "# Convert to PIL Image\n",
        "sample_super_resolved_image = Image.fromarray(sample_sr_img_np, mode='RGB')\n",
        "\n",
        "print(\"✅ Sample super-resolved image postprocessed.\")"
      ],
      "execution_count": null,
      "outputs": [
        {
          "output_type": "stream",
          "name": "stdout",
          "text": [
            "✅ Sample super-resolved image postprocessed.\n"
          ]
        }
      ]
    },
    {
      "cell_type": "markdown",
      "metadata": {
        "id": "af4a530b"
      },
      "source": [
        "## Load ground truth image\n",
        "\n",
        "### Subtask:\n",
        "Load the corresponding high-resolution (ground truth) image for the selected sample.\n"
      ]
    },
    {
      "cell_type": "markdown",
      "metadata": {
        "id": "f1089277"
      },
      "source": [
        "**Reasoning**:\n",
        "Construct the path to the corresponding high-resolution image, load it, convert it to RGB and then to a NumPy array.\n",
        "\n"
      ]
    },
    {
      "cell_type": "code",
      "metadata": {
        "colab": {
          "base_uri": "https://localhost:8080/"
        },
        "id": "330fa530",
        "outputId": "d19f2bf7-8f0b-4515-eb35-3c06181e606c"
      },
      "source": [
        "import os\n",
        "from PIL import Image\n",
        "import numpy as np\n",
        "\n",
        "# Construct the path to the corresponding high-resolution image\n",
        "# Replace 'lr' with 'hr' in the path\n",
        "ground_truth_image_path = sample_lr_image_path.replace('lr', 'hr')\n",
        "\n",
        "# Load the high-resolution image\n",
        "gt_img = Image.open(ground_truth_image_path).convert('RGB')\n",
        "\n",
        "# Convert to NumPy array\n",
        "ground_truth_image = np.array(gt_img)\n",
        "\n",
        "print(f\"✅ Loaded ground truth image from {ground_truth_image_path}. Shape: {ground_truth_image.shape}\")"
      ],
      "execution_count": null,
      "outputs": [
        {
          "output_type": "stream",
          "name": "stdout",
          "text": [
            "✅ Loaded ground truth image from /content/reds_split_dataset/train/hr/130/00000087.png. Shape: (128, 128, 3)\n"
          ]
        }
      ]
    },
    {
      "cell_type": "markdown",
      "metadata": {
        "id": "e2c520f7"
      },
      "source": [
        "## Calculate evaluation metrics\n",
        "\n",
        "### Subtask:\n",
        "Calculate relevant evaluation metrics (e.g., PSNR, SSIM) between the super-resolved image and the ground truth image.\n"
      ]
    },
    {
      "cell_type": "markdown",
      "metadata": {
        "id": "7da22b31"
      },
      "source": [
        "**Reasoning**:\n",
        "Import the necessary libraries for calculating PSNR and SSIM, convert the images to a compatible format if needed, and then calculate and store the PSNR and SSIM values.\n",
        "\n"
      ]
    },
    {
      "cell_type": "code",
      "metadata": {
        "colab": {
          "base_uri": "https://localhost:8080/"
        },
        "id": "05a234d6",
        "outputId": "577cdfb9-4bd3-4dda-df80-5115a41e7736"
      },
      "source": [
        "from skimage.metrics import peak_signal_noise_ratio, structural_similarity\n",
        "\n",
        "# Convert super-resolved PIL image to NumPy array\n",
        "sample_super_resolved_image_np = np.array(sample_super_resolved_image)\n",
        "\n",
        "# Ensure both images have the same data type (e.g., uint8) for metric calculations\n",
        "sample_super_resolved_image_np = sample_super_resolved_image_np.astype(np.uint8)\n",
        "ground_truth_image = ground_truth_image.astype(np.uint8)\n",
        "\n",
        "# Calculate PSNR\n",
        "psnr_value = peak_signal_noise_ratio(ground_truth_image, sample_super_resolved_image_np)\n",
        "\n",
        "# Calculate SSIM. The channel_axis argument is used for color images.\n",
        "ssim_value = structural_similarity(ground_truth_image, sample_super_resolved_image_np, channel_axis=-1, data_range=ground_truth_image.max() - ground_truth_image.min())\n",
        "\n",
        "print(f\"✅ Calculated PSNR: {psnr_value:.4f}\")\n",
        "print(f\"✅ Calculated SSIM: {ssim_value:.4f}\")"
      ],
      "execution_count": null,
      "outputs": [
        {
          "output_type": "stream",
          "name": "stdout",
          "text": [
            "✅ Calculated PSNR: 26.9743\n",
            "✅ Calculated SSIM: 0.8369\n"
          ]
        }
      ]
    },
    {
      "cell_type": "markdown",
      "metadata": {
        "id": "9bb4867d"
      },
      "source": [
        "## Display images and metrics\n",
        "\n",
        "### Subtask:\n",
        "Display the original low-resolution image, the super-resolved image, and the calculated evaluation metrics.\n"
      ]
    },
    {
      "cell_type": "markdown",
      "metadata": {
        "id": "1aa0b96b"
      },
      "source": [
        "**Reasoning**:\n",
        "Display the original low-resolution image, the super-resolved image, and the calculated evaluation metrics using matplotlib.\n",
        "\n"
      ]
    },
    {
      "cell_type": "code",
      "metadata": {
        "colab": {
          "base_uri": "https://localhost:8080/",
          "height": 591
        },
        "id": "96838ff9",
        "outputId": "089f8074-6e90-40ec-fdda-62cf008195b8"
      },
      "source": [
        "import matplotlib.pyplot as plt\n",
        "\n",
        "# Create a figure with subplots\n",
        "fig, axes = plt.subplots(1, 2, figsize=(12, 6))\n",
        "\n",
        "# Display the original low-resolution image\n",
        "axes[0].imshow(img) # Use the original loaded low-resolution image (NumPy array)\n",
        "axes[0].set_title(\"Low-Resolution Image\")\n",
        "axes[0].axis('off')\n",
        "\n",
        "# Display the super-resolved image\n",
        "axes[1].imshow(sample_super_resolved_image)\n",
        "axes[1].set_title(\"Super-Resolved Image\")\n",
        "axes[1].axis('off')\n",
        "\n",
        "# Add a title to the entire figure with metrics\n",
        "plt.suptitle(f\"Super-Resolution Results\\nPSNR: {psnr_value:.4f}, SSIM: {ssim_value:.4f}\", fontsize=14)\n",
        "\n",
        "# Adjust layout\n",
        "plt.tight_layout(rect=[0, 0.03, 1, 0.95]) # Adjust rect to make space for suptitle\n",
        "\n",
        "# Display the plot\n",
        "plt.show()"
      ],
      "execution_count": null,
      "outputs": [
        {
          "output_type": "display_data",
          "data": {
            "text/plain": [
              "<Figure size 1200x600 with 2 Axes>"
            ],
            "image/png": "[encoded data removed]"
          },
          "metadata": {}
        }
      ]
    },
    {
      "cell_type": "markdown",
      "metadata": {
        "id": "ac008f74"
      },
      "source": [
        "## Summary:\n",
        "\n",
        "### Data Analysis Key Findings\n",
        "\n",
        "*   A sample low-resolution image was successfully selected from the provided dataset paths.\n",
        "*   The selected low-resolution image was loaded, preprocessed, and formatted into a PyTorch tensor of shape `torch.Size([1, 3, 32, 32])`, ready for the SwinIR model.\n",
        "*   The SwinIR model was successfully applied to the preprocessed sample image, generating a super-resolved output.\n",
        "*   The model's tensor output was postprocessed, converted back into a NumPy array, and then into a PIL Image for visualization and evaluation.\n",
        "*   The corresponding high-resolution ground truth image was loaded from the dataset and converted to a NumPy array with shape `(128, 128, 3)`.\n",
        "*   Evaluation metrics were calculated between the super-resolved image and the ground truth image:\n",
        "    *   The PSNR value was approximately 26.9743.\n",
        "    *   The SSIM value was approximately 0.8369.\n",
        "*   The original low-resolution image, the super-resolved image, and the calculated PSNR and SSIM metrics were successfully displayed.\n",
        "\n",
        "### Insights or Next Steps\n",
        "\n",
        "*   The calculated PSNR of 26.9743 and SSIM of 0.8369 provide a quantitative measure of the SwinIR model's performance on this specific sample image. These values can be compared against other models or used as a baseline.\n",
        "*   To get a more comprehensive understanding of the model's performance, the evaluation metrics should be calculated across a larger subset or the entire test dataset. This would provide average PSNR and SSIM values, along with standard deviations, to assess the model's generalization capability.\n"
      ]
    },
    {
      "cell_type": "markdown",
      "metadata": {
        "id": "a026a052"
      },
      "source": [
        "# Task\n",
        "Perform knowledge distillation to train a basic CNN student model to mimic the SwinIR teacher model located at \"/content/drive/MyDrive/Project/001_classicalSR_DF2K_s64w8_SwinIR-M_x4.pth\" using the dataset from \"/content/drive/MyDrive/Project/reds_split_dataset.zip\". Evaluate the student model's performance."
      ]
    },
    {
      "cell_type": "markdown",
      "metadata": {
        "id": "322dbcfe"
      },
      "source": [
        "## Define the student model\n",
        "\n",
        "### Subtask:\n",
        "Create a basic CNN model architecture that will be trained to mimic the SwinIR teacher model.\n"
      ]
    },
    {
      "cell_type": "markdown",
      "metadata": {
        "id": "db3ad190"
      },
      "source": [
        "**Reasoning**:\n",
        "I will define a basic CNN model architecture with convolutional, activation, and upsampling layers to serve as the student model for knowledge distillation, following the provided instructions.\n",
        "\n"
      ]
    },
    {
      "cell_type": "code",
      "metadata": {
        "colab": {
          "base_uri": "https://localhost:8080/"
        },
        "id": "8c7457d9",
        "outputId": "73883c4c-ae3c-4fae-c91b-f37089d52236"
      },
      "source": [
        "import torch.nn as nn\n",
        "import torch.nn.functional as F\n",
        "\n",
        "class BasicCNNStudent(nn.Module):\n",
        "    def __init__(self, scale_factor=4):\n",
        "        super(BasicCNNStudent, self).__init__()\n",
        "        self.conv1 = nn.Conv2d(3, 64, kernel_size=3, padding=1)\n",
        "        self.conv2 = nn.Conv2d(64, 64, kernel_size=3, padding=1)\n",
        "        self.conv3 = nn.Conv2d(64, 3 * (scale_factor**2), kernel_size=3, padding=1)\n",
        "        self.pixelshuffle = nn.PixelShuffle(scale_factor)\n",
        "\n",
        "    def forward(self, x):\n",
        "        x = F.relu(self.conv1(x))\n",
        "        x = F.relu(self.conv2(x))\n",
        "        x = self.conv3(x)\n",
        "        x = self.pixelshuffle(x)\n",
        "        return x\n",
        "\n",
        "# Instantiate the student model\n",
        "student_model = BasicCNNStudent(scale_factor=4)\n",
        "\n",
        "# Move the student model to the device\n",
        "student_model = student_model.to(device)\n",
        "\n",
        "print(\"✅ Basic CNN student model created and moved to device.\")"
      ],
      "execution_count": null,
      "outputs": [
        {
          "output_type": "stream",
          "name": "stdout",
          "text": [
            "✅ Basic CNN student model created and moved to device.\n"
          ]
        }
      ]
    },
    {
      "cell_type": "markdown",
      "metadata": {
        "id": "f6dd67e9"
      },
      "source": [
        "## Define the knowledge distillation loss\n",
        "\n",
        "### Subtask:\n",
        "Set up a loss function that combines the student model's performance on the task (e.g., reconstruction loss) with a distillation loss that encourages the student's output to be similar to the teacher's output.\n"
      ]
    },
    {
      "cell_type": "markdown",
      "metadata": {
        "id": "0a3ba10b"
      },
      "source": [
        "**Reasoning**:\n",
        "I need to define a loss function that combines reconstruction loss and distillation loss. I will import `MSELoss` and define a function to calculate the combined loss.\n",
        "\n"
      ]
    },
    {
      "cell_type": "code",
      "metadata": {
        "colab": {
          "base_uri": "https://localhost:8080/"
        },
        "id": "cec35fc9",
        "outputId": "e82ad0e9-5311-42ef-d11d-25253c8f32a6"
      },
      "source": [
        "import torch.nn as nn\n",
        "\n",
        "def distillation_loss(student_output, teacher_output, ground_truth, alpha=0.5, beta=0.5):\n",
        "    \"\"\"\n",
        "    Calculates the combined reconstruction and distillation loss.\n",
        "\n",
        "    Args:\n",
        "        student_output (torch.Tensor): The output tensor from the student model.\n",
        "        teacher_output (torch.Tensor): The output tensor from the teacher model.\n",
        "        ground_truth (torch.Tensor): The ground truth high-resolution image tensor.\n",
        "        alpha (float): Weighting factor for the reconstruction loss.\n",
        "        beta (float): Weighting factor for the distillation loss.\n",
        "\n",
        "    Returns:\n",
        "        torch.Tensor: The combined loss.\n",
        "    \"\"\"\n",
        "    # Reconstruction loss (e.g., Mean Squared Error)\n",
        "    reconstruction_criterion = nn.MSELoss()\n",
        "    reconstruction_loss = reconstruction_criterion(student_output, ground_truth)\n",
        "\n",
        "    # Distillation loss (e.g., Mean Squared Error between outputs)\n",
        "    distillation_criterion = nn.MSELoss()\n",
        "    distillation_loss = distillation_criterion(student_output, teacher_output)\n",
        "\n",
        "    # Combined loss\n",
        "    combined_loss = alpha * reconstruction_loss + beta * distillation_loss\n",
        "\n",
        "    return combined_loss\n",
        "\n",
        "print(\"✅ Knowledge distillation loss function defined.\")"
      ],
      "execution_count": null,
      "outputs": [
        {
          "output_type": "stream",
          "name": "stdout",
          "text": [
            "✅ Knowledge distillation loss function defined.\n"
          ]
        }
      ]
    },
    {
      "cell_type": "markdown",
      "metadata": {
        "id": "8da8f611"
      },
      "source": [
        "## Prepare data for training\n",
        "\n",
        "### Subtask:\n",
        "Ensure you have the necessary data loaders and preprocessed data (low-resolution images and potentially corresponding high-resolution images) for training the student model.\n"
      ]
    },
    {
      "cell_type": "markdown",
      "metadata": {
        "id": "1e9b2ce6"
      },
      "source": [
        "**Reasoning**:\n",
        "I need to define a custom PyTorch Dataset and create DataLoaders for the 'train', 'val', and 'test' splits of the dataset. This involves loading image pairs and applying necessary preprocessing within the Dataset class.\n",
        "\n"
      ]
    },
    {
      "cell_type": "code",
      "metadata": {
        "colab": {
          "base_uri": "https://localhost:8080/"
        },
        "id": "f1acb270",
        "outputId": "a49f66f4-0df6-4eb0-d4d4-2f00861b26e2"
      },
      "source": [
        "import os\n",
        "from PIL import Image\n",
        "import numpy as np\n",
        "import torch\n",
        "from torch.utils.data import Dataset, DataLoader\n",
        "\n",
        "class REDSSplitDataset(Dataset):\n",
        "    def __init__(self, base_dir, split='train', transform=None):\n",
        "        \"\"\"\n",
        "        Args:\n",
        "            base_dir (string): Directory with all the split data.\n",
        "            split (string): 'train', 'val', or 'test'.\n",
        "            transform (callable, optional): Optional transform to be applied\n",
        "                on a sample.\n",
        "        \"\"\"\n",
        "        self.base_dir = base_dir\n",
        "        self.split = split\n",
        "        self.transform = transform\n",
        "        self.lr_image_paths = []\n",
        "        self.hr_image_paths = []\n",
        "\n",
        "        lr_dir = os.path.join(base_dir, split, 'lr')\n",
        "        hr_dir = os.path.join(base_dir, split, 'hr')\n",
        "\n",
        "        # Traverse the directories to find image pairs\n",
        "        for root, _, files in os.walk(lr_dir):\n",
        "            for file in files:\n",
        "                if file.lower().endswith(('.png', '.jpg', '.jpeg')):\n",
        "                    lr_path = os.path.join(root, file)\n",
        "                    # Construct the corresponding HR path by replacing 'lr' with 'hr'\n",
        "                    hr_path = lr_path.replace(os.path.join(split, 'lr'), os.path.join(split, 'hr'))\n",
        "\n",
        "                    # Check if the corresponding HR file exists\n",
        "                    if os.path.exists(hr_path):\n",
        "                        self.lr_image_paths.append(lr_path)\n",
        "                        self.hr_image_paths.append(hr_path)\n",
        "                    else:\n",
        "                        print(f\"Warning: Corresponding HR image not found for {lr_path}\")\n",
        "\n",
        "\n",
        "    def __len__(self):\n",
        "        return len(self.lr_image_paths)\n",
        "\n",
        "    def __getitem__(self, idx):\n",
        "        lr_image_path = self.lr_image_paths[idx]\n",
        "        hr_image_path = self.hr_image_paths[idx]\n",
        "\n",
        "        # Load images\n",
        "        lr_img = Image.open(lr_image_path).convert('RGB')\n",
        "        hr_img = Image.open(hr_image_path).convert('RGB')\n",
        "\n",
        "        # Convert to NumPy arrays\n",
        "        lr_img_np = np.array(lr_img)\n",
        "        hr_img_np = np.array(hr_img)\n",
        "\n",
        "        # Convert to PyTorch tensors and normalize\n",
        "        lr_img_tensor = torch.from_numpy(lr_img_np).float() / 255.0\n",
        "        hr_img_tensor = torch.from_numpy(hr_img_np).float() / 255.0\n",
        "\n",
        "        # Rearrange dimensions from HWC to NCHW (for a single image, this is CHW)\n",
        "        lr_img_tensor = lr_img_tensor.permute(2, 0, 1)\n",
        "        hr_img_tensor = hr_img_tensor.permute(2, 0, 1)\n",
        "\n",
        "        sample = {'lr': lr_img_tensor, 'hr': hr_img_tensor}\n",
        "\n",
        "        if self.transform:\n",
        "            sample = self.transform(sample)\n",
        "\n",
        "        return sample\n",
        "\n",
        "# Define the base directory for the dataset\n",
        "dataset_base_dir = '/content/reds_split_dataset'\n",
        "\n",
        "# Create Dataset instances for each split\n",
        "train_dataset = REDSSplitDataset(dataset_base_dir, split='train')\n",
        "val_dataset = REDSSplitDataset(dataset_base_dir, split='val')\n",
        "test_dataset = REDSSplitDataset(dataset_base_dir, split='test')\n",
        "\n",
        "# Create DataLoaders\n",
        "batch_size = 16 # Define your desired batch size\n",
        "train_dataloader = DataLoader(train_dataset, batch_size=batch_size, shuffle=True)\n",
        "val_dataloader = DataLoader(val_dataset, batch_size=batch_size, shuffle=False)\n",
        "test_dataloader = DataLoader(test_dataset, batch_size=batch_size, shuffle=False)\n",
        "\n",
        "print(f\"✅ Created DataLoaders for train ({len(train_dataloader)} batches), val ({len(val_dataloader)} batches), and test ({len(test_dataloader)} batches).\")"
      ],
      "execution_count": null,
      "outputs": [
        {
          "output_type": "stream",
          "name": "stdout",
          "text": [
            "✅ Created DataLoaders for train (1050 batches), val (300 batches), and test (150 batches).\n"
          ]
        }
      ]
    },
    {
      "cell_type": "markdown",
      "metadata": {
        "id": "3cb2693f"
      },
      "source": [
        "## Set up optimizer and training loop\n",
        "\n",
        "### Subtask:\n",
        "Define an optimizer for the student model's parameters and create a training loop that iterates through the data, calculates the total loss (student loss + distillation loss), and updates the student model's weights.\n"
      ]
    },
    {
      "cell_type": "markdown",
      "metadata": {
        "id": "3f50016f"
      },
      "source": [
        "**Reasoning**:\n",
        "Import the Adam optimizer, instantiate it, define the number of epochs, and start the training loop that iterates through the data, calculates the total loss, and updates the student model's weights.\n",
        "\n"
      ]
    },
    {
      "cell_type": "code",
      "metadata": {
        "colab": {
          "base_uri": "https://localhost:8080/"
        },
        "id": "9674374b",
        "outputId": "fa7fa007-99e9-45ce-f69d-96d9113cfb1a"
      },
      "source": [
        "import torch.optim as optim\n",
        "\n",
        "# Instantiate the Adam optimizer\n",
        "optimizer = optim.Adam(student_model.parameters(), lr=0.001)\n",
        "\n",
        "# Define the number of training epochs\n",
        "num_epochs = 10 # You can adjust this number\n",
        "\n",
        "# Start the training loop\n",
        "print(\"Starting training...\")\n",
        "for epoch in range(num_epochs):\n",
        "    student_model.train() # Set student model to training mode\n",
        "    total_loss = 0.0\n",
        "\n",
        "    for batch in train_dataloader:\n",
        "        # Get low-resolution and high-resolution image pairs\n",
        "        lr_images = batch['lr'].to(device)\n",
        "        hr_images = batch['hr'].to(device)\n",
        "\n",
        "        # Zero the gradients\n",
        "        optimizer.zero_grad()\n",
        "\n",
        "        # Pass the low-resolution image batch through the student model\n",
        "        student_output = student_model(lr_images)\n",
        "\n",
        "        # Pass the low-resolution image batch through the teacher model (with torch.no_grad())\n",
        "        with torch.no_grad():\n",
        "            teacher_output = model(lr_images) # 'model' is the loaded SwinIR teacher model\n",
        "\n",
        "        # Calculate the combined distillation loss\n",
        "        loss = distillation_loss(student_output, teacher_output, hr_images)\n",
        "\n",
        "        # Perform a backward pass\n",
        "        loss.backward()\n",
        "\n",
        "        # Update the student model's parameters\n",
        "        optimizer.step()\n",
        "\n",
        "        total_loss += loss.item()\n",
        "\n",
        "    # Print the average loss for the epoch\n",
        "    print(f\"Epoch [{epoch+1}/{num_epochs}], Loss: {total_loss/len(train_dataloader):.4f}\")\n",
        "\n",
        "print(\"✅ Training finished.\")"
      ],
      "execution_count": null,
      "outputs": [
        {
          "output_type": "stream",
          "name": "stdout",
          "text": [
            "Starting training...\n",
            "Epoch [1/10], Loss: 0.0060\n",
            "Epoch [2/10], Loss: 0.0037\n",
            "Epoch [3/10], Loss: 0.0036\n",
            "Epoch [4/10], Loss: 0.0035\n",
            "Epoch [5/10], Loss: 0.0034\n",
            "Epoch [6/10], Loss: 0.0034\n",
            "Epoch [7/10], Loss: 0.0033\n",
            "Epoch [8/10], Loss: 0.0033\n",
            "Epoch [9/10], Loss: 0.0033\n",
            "Epoch [10/10], Loss: 0.0032\n",
            "✅ Training finished.\n"
          ]
        }
      ]
    },
    {
      "cell_type": "markdown",
      "metadata": {
        "id": "559b06b8"
      },
      "source": [
        "## Evaluate the student model\n",
        "\n",
        "### Subtask:\n",
        "After training, evaluate the performance of the student model on a validation or test set using appropriate metrics (e.g., PSNR, SSIM) and compare it to the teacher model's performance.\n"
      ]
    },
    {
      "cell_type": "markdown",
      "metadata": {
        "id": "44ac0efd"
      },
      "source": [
        "**Reasoning**:\n",
        "I will set the student model to evaluation mode, initialize variables for metrics, iterate through the validation dataloader, pass images through both models, postprocess the outputs and ground truth, calculate PSNR and SSIM for both models, accumulate the metrics, and finally calculate and print the average metrics for comparison.\n",
        "\n"
      ]
    },
    {
      "cell_type": "code",
      "metadata": {
        "colab": {
          "base_uri": "https://localhost:8080/"
        },
        "id": "7f3f36b5",
        "outputId": "78a575e6-a2cb-474c-a405-d244a058d232"
      },
      "source": [
        "from skimage.metrics import peak_signal_noise_ratio, structural_similarity\n",
        "import numpy as np\n",
        "import torch\n",
        "\n",
        "# Set the student model to evaluation mode\n",
        "student_model.eval()\n",
        "\n",
        "# Initialize variables to accumulate PSNR and SSIM values for the evaluation set\n",
        "student_psnr_sum = 0.0\n",
        "student_ssim_sum = 0.0\n",
        "teacher_psnr_sum = 0.0\n",
        "teacher_ssim_sum = 0.0\n",
        "num_evaluation_batches = 0\n",
        "\n",
        "# Iterate through the val_dataloader without calculating gradients\n",
        "with torch.no_grad():\n",
        "    for batch in val_dataloader:\n",
        "        # Get the low-resolution and high-resolution image pairs and move them to the device\n",
        "        lr_images = batch['lr'].to(device)\n",
        "        hr_images = batch['hr'].to(device)\n",
        "\n",
        "        # Pass the low-resolution images through the student model\n",
        "        student_output = student_model(lr_images)\n",
        "\n",
        "        # Pass the low-resolution images through the teacher model\n",
        "        teacher_output = model(lr_images) # 'model' is the loaded SwinIR teacher model\n",
        "\n",
        "        # Postprocess the student's output, teacher's output, and ground truth HR tensors\n",
        "        student_output_np = student_output.mul(255).clamp(0, 255).byte().permute(0, 2, 3, 1).cpu().numpy()\n",
        "        teacher_output_np = teacher_output.mul(255).clamp(0, 255).byte().permute(0, 2, 3, 1).cpu().numpy()\n",
        "        hr_images_np = hr_images.mul(255).clamp(0, 255).byte().permute(0, 2, 3, 1).cpu().numpy()\n",
        "\n",
        "        # Calculate and accumulate PSNR and SSIM for each image in the batch\n",
        "        batch_size = lr_images.size(0)\n",
        "        for i in range(batch_size):\n",
        "            student_psnr = peak_signal_noise_ratio(hr_images_np[i], student_output_np[i])\n",
        "            student_ssim = structural_similarity(hr_images_np[i], student_output_np[i], channel_axis=-1, data_range=255)\n",
        "\n",
        "            teacher_psnr = peak_signal_noise_ratio(hr_images_np[i], teacher_output_np[i])\n",
        "            teacher_ssim = structural_similarity(hr_images_np[i], teacher_output_np[i], channel_axis=-1, data_range=255)\n",
        "\n",
        "            student_psnr_sum += student_psnr\n",
        "            student_ssim_sum += student_ssim\n",
        "            teacher_psnr_sum += teacher_psnr\n",
        "            teacher_ssim_sum += teacher_ssim\n",
        "\n",
        "        num_evaluation_batches += 1\n",
        "\n",
        "# Calculate the average PSNR and SSIM\n",
        "average_student_psnr = student_psnr_sum / (num_evaluation_batches * batch_size)\n",
        "average_student_ssim = student_ssim_sum / (num_evaluation_batches * batch_size)\n",
        "average_teacher_psnr = teacher_psnr_sum / (num_evaluation_batches * batch_size)\n",
        "average_teacher_ssim = teacher_ssim_sum / (num_evaluation_batches * batch_size)\n",
        "\n",
        "\n",
        "# Print the average PSNR and SSIM values\n",
        "print(\"\\n--- Evaluation Results ---\")\n",
        "print(f\"Average Student PSNR: {average_student_psnr:.4f}\")\n",
        "print(f\"Average Student SSIM: {average_student_ssim:.4f}\")\n",
        "print(f\"Average Teacher PSNR: {average_teacher_psnr:.4f}\")\n",
        "print(f\"Average Teacher SSIM: {average_teacher_ssim:.4f}\")\n",
        "print(\"--------------------------\")"
      ],
      "execution_count": null,
      "outputs": [
        {
          "output_type": "stream",
          "name": "stdout",
          "text": [
            "\n",
            "--- Evaluation Results ---\n",
            "Average Student PSNR: 23.4351\n",
            "Average Student SSIM: 0.7161\n",
            "Average Teacher PSNR: 24.5487\n",
            "Average Teacher SSIM: 0.7769\n",
            "--------------------------\n"
          ]
        }
      ]
    },
    {
      "cell_type": "markdown",
      "metadata": {
        "id": "fc2fba5e"
      },
      "source": [
        "## Summary:\n",
        "\n",
        "### Data Analysis Key Findings\n",
        "\n",
        "*   A basic CNN student model was successfully defined with convolutional layers and a pixel shuffle layer for 4x upscaling.\n",
        "*   A knowledge distillation loss function was implemented using Mean Squared Error (MSE) for both reconstruction loss (student output vs. ground truth) and distillation loss (student output vs. teacher output), with adjustable weighting factors.\n",
        "*   A custom PyTorch `Dataset` and `DataLoader` were created to handle the split REDS dataset, successfully loading and preprocessing image pairs for training and evaluation.\n",
        "*   An Adam optimizer was set up for the student model, and a training loop was implemented for 10 epochs, showing a decreasing trend in the training loss over time.\n",
        "*   Evaluation on the validation set showed that the teacher SwinIR model achieved significantly higher average PSNR (24.5487) and SSIM (0.7769) compared to the student CNN model (PSNR: 23.4351, SSIM: 0.7161).\n",
        "\n",
        "### Insights or Next Steps\n",
        "\n",
        "*   While the student model learned during training (loss decreased), its performance is notably lower than the teacher model. Future steps could involve exploring more complex student architectures, adjusting the distillation loss weighting factors, or increasing the number of training epochs to improve the student's performance.\n",
        "*   Investigate alternative distillation techniques, such as using feature map distillation or different loss functions (e.g., L1 loss, perceptual loss), to potentially improve the student model's ability to mimic the teacher's performance.\n"
      ]
    },
    {
      "cell_type": "markdown",
      "metadata": {
        "id": "186c80c1"
      },
      "source": [
        "# Task\n",
        "Take a sample low-resolution image from the dataset located at \"/content/drive/MyDrive/Project/reds_split_dataset.zip\", apply the trained SwinIR teacher model loaded from \"/content/drive/MyDrive/Project/001_classicalSR_DF2K_s64w8_SwinIR-M_x4.pth\" and the trained basic CNN student model to it, and display the input low-resolution image, the teacher model's output image, the student model's output image, and the corresponding ground truth high-resolution image from the dataset."
      ]
    },
    {
      "cell_type": "markdown",
      "metadata": {
        "id": "b2e710a8"
      },
      "source": [
        "## Select a sample image\n",
        "\n",
        "### Subtask:\n",
        "Choose one low-resolution image path from the list of identified paths.\n"
      ]
    },
    {
      "cell_type": "markdown",
      "metadata": {
        "id": "f470c264"
      },
      "source": [
        "**Reasoning**:\n",
        "I will select the first image path from the `lr_image_paths` list and store it in a new variable, then print it.\n",
        "\n"
      ]
    },
    {
      "cell_type": "code",
      "metadata": {
        "colab": {
          "base_uri": "https://localhost:8080/"
        },
        "id": "d37c7620",
        "outputId": "16712320-bf45-4694-c891-f7ee730b5434"
      },
      "source": [
        "# Select the first image path from the list\n",
        "sample_lr_image_path = lr_image_paths[0]\n",
        "\n",
        "# Print the selected image path\n",
        "print(f\"✅ Selected sample low-resolution image path: {sample_lr_image_path}\")"
      ],
      "execution_count": null,
      "outputs": [
        {
          "output_type": "stream",
          "name": "stdout",
          "text": [
            "✅ Selected sample low-resolution image path: /content/reds_split_dataset/train/lr/130/00000087.png\n"
          ]
        }
      ]
    },
    {
      "cell_type": "markdown",
      "metadata": {
        "id": "ae839d71"
      },
      "source": [
        "## Load and preprocess sample image\n",
        "\n",
        "### Subtask:\n",
        "Load and preprocess the selected low-resolution image to be compatible with the models.\n"
      ]
    },
    {
      "cell_type": "markdown",
      "metadata": {
        "id": "d1154531"
      },
      "source": [
        "**Reasoning**:\n",
        "I will load and preprocess the selected low-resolution image according to the instructions.\n",
        "\n"
      ]
    },
    {
      "cell_type": "code",
      "metadata": {
        "colab": {
          "base_uri": "https://localhost:8080/"
        },
        "id": "681c78c9",
        "outputId": "9b8b2be7-88c8-423c-bb12-aaaa338159da"
      },
      "source": [
        "from PIL import Image\n",
        "import numpy as np\n",
        "import torch\n",
        "\n",
        "# Load the image\n",
        "img = Image.open(sample_lr_image_path).convert('RGB')\n",
        "img = np.array(img)\n",
        "\n",
        "# Convert image from NumPy array to PyTorch tensor\n",
        "img_tensor = torch.from_numpy(img).float()\n",
        "\n",
        "# Normalize the image tensor by dividing by 255.0\n",
        "img_tensor /= 255.0\n",
        "\n",
        "# Rearrange dimensions from HWC to NCHW\n",
        "img_tensor = img_tensor.permute(2, 0, 1).unsqueeze(0)\n",
        "\n",
        "# Move the image tensor to the device\n",
        "sample_preprocessed_image = img_tensor.to(device)\n",
        "\n",
        "print(\"✅ Sample image preprocessed and ready for model input.\")\n",
        "print(f\"Processed sample image tensor shape: {sample_preprocessed_image.shape}\")"
      ],
      "execution_count": null,
      "outputs": [
        {
          "output_type": "stream",
          "name": "stdout",
          "text": [
            "✅ Sample image preprocessed and ready for model input.\n",
            "Processed sample image tensor shape: torch.Size([1, 3, 32, 32])\n"
          ]
        }
      ]
    },
    {
      "cell_type": "markdown",
      "metadata": {
        "id": "0840fd03"
      },
      "source": [
        "## Get student and teacher outputs\n",
        "\n",
        "### Subtask:\n",
        "Pass the preprocessed sample image through both the trained student model and the teacher model to get their respective super-resolved outputs.\n"
      ]
    },
    {
      "cell_type": "markdown",
      "metadata": {
        "id": "4879b10a"
      },
      "source": [
        "**Reasoning**:\n",
        "I will pass the preprocessed sample image through both the student and teacher models and store their respective outputs, ensuring no gradients are calculated during inference.\n",
        "\n"
      ]
    },
    {
      "cell_type": "code",
      "metadata": {
        "colab": {
          "base_uri": "https://localhost:8080/"
        },
        "id": "9860c5c3",
        "outputId": "a4d83898-3447-43a9-c808-d8152d3e8196"
      },
      "source": [
        "import torch\n",
        "\n",
        "# Pass the preprocessed sample image through the student model\n",
        "with torch.no_grad():\n",
        "    sample_student_output = student_model(sample_preprocessed_image)\n",
        "\n",
        "# Pass the preprocessed sample image through the teacher model\n",
        "with torch.no_grad():\n",
        "    sample_teacher_output = model(sample_preprocessed_image)\n",
        "\n",
        "print(\"✅ Sample image passed through both student and teacher models.\")"
      ],
      "execution_count": null,
      "outputs": [
        {
          "output_type": "stream",
          "name": "stdout",
          "text": [
            "✅ Sample image passed through both student and teacher models.\n"
          ]
        }
      ]
    },
    {
      "cell_type": "markdown",
      "metadata": {
        "id": "ed8bf086"
      },
      "source": [
        "## Load ground truth image\n",
        "\n",
        "### Subtask:\n",
        "Load the corresponding high-resolution (ground truth) image for the selected sample.\n"
      ]
    },
    {
      "cell_type": "markdown",
      "metadata": {
        "id": "2d08cfc5"
      },
      "source": [
        "**Reasoning**:\n",
        "I need to construct the path to the corresponding high-resolution image, load it, convert it to RGB and then to a NumPy array, and store it in the `ground_truth_image` variable. Finally, I will print a success message with the shape.\n",
        "\n"
      ]
    },
    {
      "cell_type": "code",
      "metadata": {
        "colab": {
          "base_uri": "https://localhost:8080/"
        },
        "id": "53957ad2",
        "outputId": "4864bcca-0550-4469-ccad-b526c8baca0e"
      },
      "source": [
        "import os\n",
        "from PIL import Image\n",
        "import numpy as np\n",
        "\n",
        "# Construct the path to the corresponding high-resolution image\n",
        "# Replace 'lr' with 'hr' in the path\n",
        "ground_truth_image_path = sample_lr_image_path.replace('lr', 'hr')\n",
        "\n",
        "# Load the high-resolution image\n",
        "gt_img = Image.open(ground_truth_image_path).convert('RGB')\n",
        "\n",
        "# Convert to NumPy array\n",
        "ground_truth_image = np.array(gt_img)\n",
        "\n",
        "print(f\"✅ Loaded ground truth image from {ground_truth_image_path}. Shape: {ground_truth_image.shape}\")"
      ],
      "execution_count": null,
      "outputs": [
        {
          "output_type": "stream",
          "name": "stdout",
          "text": [
            "✅ Loaded ground truth image from /content/reds_split_dataset/train/hr/130/00000087.png. Shape: (128, 128, 3)\n"
          ]
        }
      ]
    },
    {
      "cell_type": "markdown",
      "metadata": {
        "id": "9b2d5657"
      },
      "source": [
        "## Postprocess images\n",
        "\n",
        "### Subtask:\n",
        "Postprocess the low-resolution input, student output, teacher output, and ground truth images to convert them into a displayable image format (e.g., PIL Image or NumPy array).\n"
      ]
    },
    {
      "cell_type": "markdown",
      "metadata": {
        "id": "d34e9206"
      },
      "source": [
        "**Reasoning**:\n",
        "Convert the low-resolution input, student output, teacher output, and ground truth images to displayable formats (NumPy arrays).\n",
        "\n"
      ]
    },
    {
      "cell_type": "code",
      "metadata": {
        "colab": {
          "base_uri": "https://localhost:8080/"
        },
        "id": "55692da6",
        "outputId": "aa76ed32-9be7-4a6d-cf56-defc26c10d52"
      },
      "source": [
        "# Convert the preprocessed low-resolution input tensor to a NumPy array for display\n",
        "display_lr_image = sample_preprocessed_image.squeeze(0).cpu().mul(255).clamp(0, 255).byte().permute(1, 2, 0).numpy()\n",
        "\n",
        "# Convert the student model's output tensor to a NumPy array for display\n",
        "display_student_sr_image = sample_student_output.squeeze(0).cpu().mul(255).clamp(0, 255).byte().permute(1, 2, 0).numpy()\n",
        "\n",
        "# Convert the teacher model's output tensor to a NumPy array for display\n",
        "display_teacher_sr_image = sample_teacher_output.squeeze(0).cpu().mul(255).clamp(0, 255).byte().permute(1, 2, 0).numpy()\n",
        "\n",
        "# Ensure the ground truth image is in uint8 format for display\n",
        "display_gt_image = ground_truth_image.astype(np.uint8)\n",
        "\n",
        "print(\"✅ Images postprocessed for display.\")"
      ],
      "execution_count": null,
      "outputs": [
        {
          "output_type": "stream",
          "name": "stdout",
          "text": [
            "✅ Images postprocessed for display.\n"
          ]
        }
      ]
    },
    {
      "cell_type": "markdown",
      "metadata": {
        "id": "d3b88284"
      },
      "source": [
        "## Display images\n",
        "\n",
        "### Subtask:\n",
        "Display the original low-resolution image, the student's super-resolved image, the teacher's super-resolved image, and the ground truth high-resolution image side-by-side.\n"
      ]
    },
    {
      "cell_type": "markdown",
      "metadata": {
        "id": "d5871ea6"
      },
      "source": [
        "**Reasoning**:\n",
        "Display the original low-resolution image, the student's super-resolved image, the teacher's super-resolved image, and the ground truth high-resolution image side-by-side using matplotlib.\n",
        "\n"
      ]
    },
    {
      "cell_type": "code",
      "metadata": {
        "colab": {
          "base_uri": "https://localhost:8080/",
          "height": 298
        },
        "id": "46d1bd47",
        "outputId": "c3bc8cf7-3799-4277-f54d-306d3c60ef1f"
      },
      "source": [
        "import matplotlib.pyplot as plt\n",
        "\n",
        "# Create a figure with four subplots\n",
        "fig, axes = plt.subplots(1, 4, figsize=(20, 5))\n",
        "\n",
        "# Display the original low-resolution image\n",
        "axes[0].imshow(display_lr_image)\n",
        "axes[0].set_title(\"Low-Resolution Input\")\n",
        "axes[0].axis('off')\n",
        "\n",
        "# Display the student's super-resolved image\n",
        "axes[1].imshow(display_student_sr_image)\n",
        "axes[1].set_title(\"Student Output\")\n",
        "axes[1].axis('off')\n",
        "\n",
        "# Display the teacher's super-resolved image\n",
        "axes[2].imshow(display_teacher_sr_image)\n",
        "axes[2].set_title(\"Teacher Output\")\n",
        "axes[2].axis('off')\n",
        "\n",
        "# Display the ground truth high-resolution image\n",
        "axes[3].imshow(display_gt_image)\n",
        "axes[3].set_title(\"Ground Truth\")\n",
        "axes[3].axis('off')\n",
        "\n",
        "# Add a main title to the figure\n",
        "plt.suptitle(\"Image Comparison: Low-Resolution Input, Student Output, Teacher Output, and Ground Truth\", fontsize=16)\n",
        "\n",
        "# Adjust layout\n",
        "plt.tight_layout(rect=[0, 0.03, 1, 0.95]) # Adjust rect to make space for suptitle\n",
        "\n",
        "# Display the plot\n",
        "plt.show()"
      ],
      "execution_count": null,
      "outputs": [
        {
          "output_type": "display_data",
          "data": {
            "text/plain": [
              "<Figure size 2000x500 with 4 Axes>"
            ],
            "image/png": "[encoded data removed]"
          },
          "metadata": {}
        }
      ]
    },
    {
      "cell_type": "markdown",
      "metadata": {
        "id": "37fa0eeb"
      },
      "source": [
        "## Summary:\n",
        "\n",
        "### Data Analysis Key Findings\n",
        "\n",
        "*   A sample low-resolution image from the dataset was successfully selected and preprocessed for model input, resulting in a tensor of shape `torch.Size([1, 3, 32, 32])`.\n",
        "*   The preprocessed sample image was passed through both the trained basic CNN student model and the trained SwinIR teacher model within a `torch.no_grad()` context to obtain their super-resolved outputs.\n",
        "*   The corresponding high-resolution ground truth image was loaded by modifying the path of the low-resolution image.\n",
        "*   The low-resolution input, student output, teacher output, and ground truth images were successfully postprocessed into NumPy arrays suitable for display, with pixel values scaled to the range \\[0, 255] and data type as `uint8`.\n",
        "*   The four images (low-resolution input, student output, teacher output, and ground truth) were displayed side-by-side using Matplotlib for visual comparison.\n",
        "\n",
        "### Insights or Next Steps\n",
        "\n",
        "*   Visually inspect the displayed images to qualitatively assess the performance of the student model compared to the teacher model and the ground truth.\n",
        "*   Quantitatively evaluate the performance of both the student and teacher models using metrics such as PSNR or SSIM to provide a more objective comparison.\n"
      ]
    }
  ]
}